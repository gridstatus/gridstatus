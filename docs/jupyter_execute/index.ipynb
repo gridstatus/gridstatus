{
 "cells": [
  {
   "cell_type": "markdown",
   "id": "7ea46776",
   "metadata": {},
   "source": [
    "# What is Grid Status?\n",
    "\n",
    "\n",
    "<p align=\"center\">\n",
    "<img width=75% src=\"https://github.com/kmax12/isodata/raw/c77f933e30bc24a33ef36496d5250da4605b214f/gridstatus-header.png\" alt=\"gridstatus logo\" />\n",
    "</p>\n",
    "\n",
    "<p align=\"center\">\n",
    "    <a href=\"https://github.com/kmax12/gridstatus/actions?query=branch%3Amain+workflow%3ATests\" target=\"_blank\">\n",
    "        <img src=\"https://github.com/kmax12/gridstatus/workflows/Tests/badge.svg?branch=main\" alt=\"Tests\" />\n",
    "    </a>\n",
    "    <a href=\"https://codecov.io/gh/kmax12/gridstatus\" target=\"_blank\">\n",
    "        <img src=\"https://codecov.io/gh/kmax12/gridstatus/branch/main/graph/badge.svg\" alt=\"Code Coverage\"/>\n",
    "    </a>\n",
    "    <a href=\"https://badge.fury.io/py/gridstatus\" target=\"_blank\">\n",
    "        <img src=\"https://badge.fury.io/py/gridstatus.svg?maxAge=2592000\" alt=\"PyPI Version\" />\n",
    "    </a>\n",
    "</p>\n",
    "\n",
    "`gridstatus` is a standardized Python API to electricity supply, demand, and pricing data for the major Independent System Operators (ISOs) in the United States.\n",
    "\n",
    "Currently `gridstatus` supports CAISO, SPP, ISONE, MISO, Ercot, NYISO, and PJM.\n",
    "\n",
    "We'd love to answer any usage or data access questions! Please let us know by posting a GitHub issue.\n",
    "\n",
    "## 5 Minute Overview\n",
    "\n",
    "First, we can see all of the ISOs that are supported"
   ]
  },
  {
   "cell_type": "code",
   "execution_count": null,
   "id": "19ed55e5",
   "metadata": {},
   "outputs": [],
   "source": [
    "import gridstatus\n",
    "gridstatus.list_isos()"
   ]
  },
  {
   "cell_type": "markdown",
   "id": "f9a17aa8",
   "metadata": {},
   "source": [
    "Next, we can select an ISO we want to use"
   ]
  },
  {
   "cell_type": "code",
   "execution_count": null,
   "id": "63e51268",
   "metadata": {},
   "outputs": [],
   "source": [
    "caiso = gridstatus.CAISO()"
   ]
  },
  {
   "cell_type": "markdown",
   "id": "53ba16b3",
   "metadata": {},
   "source": [
    "### Fuel Mix\n",
    "\n",
    "All ISOs have the same API to methods like `get_fuel_mix`, `get_load`, and `get_status`, etc. Here is how we can get the fuel mix"
   ]
  },
  {
   "cell_type": "code",
   "execution_count": null,
   "id": "dd2d10ba",
   "metadata": {},
   "outputs": [],
   "source": [
    "caiso.get_fuel_mix(\"today\")"
   ]
  },
  {
   "cell_type": "markdown",
   "id": "d1074c4b",
   "metadata": {},
   "source": [
    "### Load\n",
    "\n",
    "or the energy demand throughout the current day as a Pandas DataFrame"
   ]
  },
  {
   "cell_type": "code",
   "execution_count": null,
   "id": "0d28fc58",
   "metadata": {},
   "outputs": [],
   "source": [
    "caiso.get_load(\"today\")"
   ]
  },
  {
   "cell_type": "markdown",
   "id": "31a22f3c",
   "metadata": {},
   "source": [
    "### Load Forecast\n",
    "\n",
    "Another dataset we can query is the load forecast"
   ]
  },
  {
   "cell_type": "code",
   "execution_count": null,
   "id": "b779454b",
   "metadata": {},
   "outputs": [],
   "source": [
    "nyiso = gridstatus.NYISO()\n",
    "nyiso.get_load_forecast(\"today\")"
   ]
  },
  {
   "cell_type": "markdown",
   "id": "b6e3c2da",
   "metadata": {},
   "source": [
    "### Historical Data\n",
    "\n",
    "When [supported](./availability.md), you can use the historical method calls to get data for a specific day in the past. For example,"
   ]
  },
  {
   "cell_type": "code",
   "execution_count": null,
   "id": "0d12bd97",
   "metadata": {},
   "outputs": [],
   "source": [
    "caiso.get_load(\"Jan 1, 2020\")"
   ]
  },
  {
   "cell_type": "markdown",
   "id": "dc4bfb90",
   "metadata": {},
   "source": [
    "Frequently, we want to get data across multiple days. We can do that by providing a `start` and `end` parameter to any `iso.get_*` method"
   ]
  },
  {
   "cell_type": "code",
   "execution_count": null,
   "id": "b284b820",
   "metadata": {
    "tags": [
     "remove-stdout",
     "remove-stderr"
    ]
   },
   "outputs": [],
   "source": [
    "caiso_load = caiso.get_load(start=\"Jan 1, 2021\", end=\"Feb 1, 2021\")\n",
    "caiso_load"
   ]
  },
  {
   "cell_type": "markdown",
   "id": "3b22fd5b",
   "metadata": {},
   "source": [
    "We can now see there is data for all of January 2021"
   ]
  },
  {
   "cell_type": "code",
   "execution_count": null,
   "id": "b2695fa3",
   "metadata": {
    "tags": [
     "remove-stdout",
     "remove-stderr"
    ]
   },
   "outputs": [],
   "source": [
    "import plotly.express as px\n",
    "\n",
    "fig = px.line(caiso_load, x=\"Time\", y=\"Load\", title=\"CAISO Load - Jan '21\")\n",
    "fig"
   ]
  },
  {
   "cell_type": "markdown",
   "id": "a7a4ae36",
   "metadata": {},
   "source": [
    "### Next Steps\n",
    "\n",
    "The best part is these APIs work in the same way across all the supported ISOs!\n",
    "\n",
    "```{toctree}\n",
    ":maxdepth: 2\n",
    ":caption: Getting Started\n",
    "\n",
    "installation\n",
    "availability\n",
    "lmp\n",
    "interconnection_queues\n",
    "```\n",
    "\n",
    "```{toctree}\n",
    ":maxdepth: 0\n",
    ":caption: Examples\n",
    "\n",
    "Examples/caiso/index.md\n",
    "Examples/EIA/index.md\n",
    "Examples/ercot/index.md\n",
    "Examples/nyiso/index.md\n",
    "Examples/pjm/index.md\n",
    "Examples/spp/index.md\n",
    "Examples/misc/index.md\n",
    "```\n",
    "\n",
    "\n",
    "```{toctree}\n",
    ":caption: Reference\n",
    ":maxdepth: 1\n",
    "\n",
    "api-reference\n",
    "changelog\n",
    "contributing\n",
    "```"
   ]
  }
 ],
 "metadata": {
  "file_format": "mystnb",
  "kernelspec": {
   "display_name": "python3",
   "name": "python3"
  },
  "mystnb": {
   "execution_timeout": 600
  },
  "source_map": [
   8,
   40,
   43,
   47,
   49,
   55,
   57,
   63,
   65,
   71,
   74,
   80,
   82,
   86,
   90,
   94,
   101
  ],
  "title": "Grid Status"
 },
 "nbformat": 4,
 "nbformat_minor": 5
}