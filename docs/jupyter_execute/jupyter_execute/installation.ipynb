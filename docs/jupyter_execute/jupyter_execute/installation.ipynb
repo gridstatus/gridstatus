{
 "cells": [
  {
   "cell_type": "markdown",
   "id": "24725c60",
   "metadata": {},
   "source": [
    "# Installation\n",
    "\n",
    "`gridstatus` supports python 3.8+. Install with pip\n",
    "\n",
    "```\n",
    "python -m pip install gridstatus\n",
    "```\n",
    "\n",
    "Upgrade using the following command\n",
    "\n",
    "```\n",
    "python -m pip install --upgrade gridstatus\n",
    "```\n",
    "\n",
    "Check current version like this"
   ]
  },
  {
   "cell_type": "code",
   "execution_count": 1,
   "id": "01749f80",
   "metadata": {
    "tags": [
     "my-tag"
    ]
   },
   "outputs": [
    {
     "data": {
      "text/plain": [
       "'0.23.0'"
      ]
     },
     "execution_count": 1,
     "metadata": {},
     "output_type": "execute_result"
    }
   ],
   "source": [
    "import gridstatus\n",
    "gridstatus.__version__"
   ]
  }
 ],
 "metadata": {
  "file_format": "mystnb",
  "kernelspec": {
   "display_name": "python3",
   "name": "python3"
  },
  "language_info": {
   "codemirror_mode": {
    "name": "ipython",
    "version": 3
   },
   "file_extension": ".py",
   "mimetype": "text/x-python",
   "name": "python",
   "nbconvert_exporter": "python",
   "pygments_lexer": "ipython3",
   "version": "3.11.5"
  },
  "source_map": [
   5,
   23
  ]
 },
 "nbformat": 4,
 "nbformat_minor": 5
}