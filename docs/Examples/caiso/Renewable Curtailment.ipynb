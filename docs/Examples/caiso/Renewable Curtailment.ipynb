{
 "cells": [
  {
   "cell_type": "markdown",
   "id": "57a92274",
   "metadata": {},
   "source": [
    "# Solar and Wind Curtailment\n",
    "\n",
    "Renewables like wind and solar regularly produce energy in excess of demand. In order to keep supply and demand balanced on the grid, the result is \"curtailment\", or purposefully reducing output.\n",
    "\n",
    "In this notebook, we'll walk through accessing the curtailment data for CAISO"
   ]
  },
  {
   "cell_type": "code",
   "execution_count": null,
   "id": "3599dfce",
   "metadata": {},
   "outputs": [],
   "source": [
    "import gridstatus\n",
    "import pandas as pd\n",
    "import plotly.express as px\n",
    "import numpy as np\n",
    "from plotly.subplots import make_subplots\n",
    "import plotly.graph_objects as go"
   ]
  },
  {
   "cell_type": "code",
   "execution_count": null,
   "id": "4304ea16",
   "metadata": {},
   "outputs": [],
   "source": [
    "iso = gridstatus.CAISO()"
   ]
  },
  {
   "cell_type": "markdown",
   "id": "a23c3119",
   "metadata": {},
   "source": [
    "## Get Curtailment Data\n",
    "\n",
    "First, we will query for curtailment data. CAISO publishes curtailment data starting on June 30, 2016. We use the `save_to` parameter to save the data locally, so it is easier to reload later."
   ]
  },
  {
   "cell_type": "code",
   "execution_count": null,
   "id": "fc53269c",
   "metadata": {},
   "outputs": [],
   "source": [
    "df = iso.get_curtailment(\n",
    "    start=\"Jan 1, 2020\", end=\"Nov 30, 2022\", save_to=\"curtailment/\"\n",
    ")"
   ]
  },
  {
   "cell_type": "markdown",
   "id": "bd4b87c4",
   "metadata": {},
   "source": [
    "we can easily reload the data in the curtailment folder like this. By default it loads with UTC timezone unless we specify otherwise."
   ]
  },
  {
   "cell_type": "code",
   "execution_count": null,
   "id": "3a92c4c4",
   "metadata": {},
   "outputs": [],
   "source": [
    "df = gridstatus.load_folder(\"curtailment\", time_zone=gridstatus.CAISO.default_timezone)\n",
    "df"
   ]
  },
  {
   "cell_type": "markdown",
   "id": "9b816252",
   "metadata": {},
   "source": [
    "next, let's reformat the data to make it easier to work with\n"
   ]
  },
  {
   "cell_type": "code",
   "execution_count": null,
   "id": "3724561f",
   "metadata": {},
   "outputs": [],
   "source": [
    "df[\"Type\"] = (\n",
    "    df[\"Curtailment Reason\"].str.lower().str.capitalize()\n",
    "    + \" \"\n",
    "    + df[\"Fuel Type\"]\n",
    "    + \" Curtailment (MWh)\"\n",
    ")\n",
    "curtailment = df.pivot_table(\n",
    "    values=\"Curtailment (MWh)\", index=\"Time\", columns=\"Type\"\n",
    ").fillna(0)\n",
    "\n",
    "curtailment[\"Total Solar Curtailment (MWh)\"] = (\n",
    "    curtailment[\"Local Solar Curtailment (MWh)\"]\n",
    "    + curtailment[\"System Solar Curtailment (MWh)\"]\n",
    ")\n",
    "curtailment[\"Total Wind Curtailment (MWh)\"] = (\n",
    "    curtailment[\"Local Wind Curtailment (MWh)\"]\n",
    "    + curtailment[\"System Wind Curtailment (MWh)\"]\n",
    ")\n",
    "curtailment[\"Total Curtailment (MWh)\"] = (\n",
    "    curtailment[\"Total Solar Curtailment (MWh)\"]\n",
    "    + curtailment[\"Total Wind Curtailment (MWh)\"]\n",
    ")\n",
    "curtailment.columns.name = None\n",
    "curtailment = curtailment.resample(\"1H\").sum()\n",
    "curtailment"
   ]
  },
  {
   "cell_type": "markdown",
   "id": "e99733e3",
   "metadata": {},
   "source": [
    "## Visualizing Curtailment"
   ]
  },
  {
   "cell_type": "markdown",
   "id": "50a5085d",
   "metadata": {},
   "source": [
    "### Monthly Curtailment"
   ]
  },
  {
   "cell_type": "code",
   "execution_count": null,
   "id": "ed6b9ee4",
   "metadata": {},
   "outputs": [],
   "source": [
    "monthly = curtailment.resample(\"M\").sum()\n",
    "monthly[\"Month\"] = monthly.index.month\n",
    "monthly[\"Year\"] = monthly.index.year\n",
    "\n",
    "fig = px.bar(\n",
    "    monthly,\n",
    "    x=monthly.index,\n",
    "    y=[\"Total Solar Curtailment (MWh)\", \"Total Wind Curtailment (MWh)\"],\n",
    "    title=\"Monthly Solar and Wind Curtailment in CAISO (MWh)\",\n",
    ")\n",
    "\n",
    "# legend upper left corner\n",
    "fig.update_layout(\n",
    "    legend=dict(\n",
    "        orientation=\"h\", yanchor=\"bottom\", y=1.02, xanchor=\"left\", x=0, title_text=None\n",
    "    )\n",
    ")\n",
    "fig.update_yaxes(title_text=\"Curtailment (MWh)\")\n",
    "fig.show(\"svg\", width=1200, height=600)"
   ]
  },
  {
   "cell_type": "markdown",
   "id": "d00a5e66",
   "metadata": {},
   "source": [
    "### Average Hourly Curtailment"
   ]
  },
  {
   "cell_type": "code",
   "execution_count": null,
   "id": "a4a70869",
   "metadata": {},
   "outputs": [],
   "source": [
    "avg_hourly = curtailment.groupby(curtailment.index.hour).mean()\n",
    "fig = px.line(\n",
    "    avg_hourly,\n",
    "    x=avg_hourly.index,\n",
    "    y=[\"Total Solar Curtailment (MWh)\", \"Total Wind Curtailment (MWh)\"],\n",
    "    title=\"Average Hourly Solar and Wind Curtailment in CAISO (MWh)\",\n",
    ")\n",
    "fig.update_yaxes(title_text=\"Curtailment (MWh)\")\n",
    "fig.show(\"svg\", width=1200, height=600)"
   ]
  },
  {
   "cell_type": "code",
   "execution_count": null,
   "id": "9474c2be",
   "metadata": {},
   "outputs": [],
   "source": [
    "curtailment[\"Year\"] = curtailment.index.year\n",
    "yearly_sum = curtailment.groupby(\"Year\").sum()\n",
    "index = yearly_sum.index.astype(str).tolist()\n",
    "index[-1] = \"2022 YTD\"\n",
    "yearly_sum.index = index\n",
    "\n",
    "fig = px.bar(\n",
    "    yearly_sum,\n",
    "    x=yearly_sum.index,\n",
    "    y=[\"Total Solar Curtailment (MWh)\", \"Total Wind Curtailment (MWh)\"],\n",
    "    title=\"Total Solar and Wind Curtailment in CAISO (MWh)\",\n",
    ")\n",
    "fig.update_layout(\n",
    "    legend=dict(yanchor=\"bottom\", y=0.9, xanchor=\"left\", x=0, title_text=None)\n",
    ")\n",
    "fig.update_yaxes(title_text=\"Curtailment (MWh)\")\n",
    "fig.update_xaxes(title_text=\"Year\")\n",
    "fig.show(\"svg\", width=1200, height=600)"
   ]
  }
 ],
 "metadata": {
  "kernelspec": {
   "display_name": "Python 3 (ipykernel)",
   "language": "python",
   "name": "python3"
  },
  "language_info": {
   "codemirror_mode": {
    "name": "ipython",
    "version": 3
   },
   "file_extension": ".py",
   "mimetype": "text/x-python",
   "name": "python",
   "nbconvert_exporter": "python",
   "pygments_lexer": "ipython3",
   "version": "3.11.1"
  },
  "vscode": {
   "interpreter": {
    "hash": "49f14642123d0cc1afa9fa45716ed5f1e915189c28b01efe02a8b7ec3c0a3fce"
   }
  }
 },
 "nbformat": 4,
 "nbformat_minor": 5
}
