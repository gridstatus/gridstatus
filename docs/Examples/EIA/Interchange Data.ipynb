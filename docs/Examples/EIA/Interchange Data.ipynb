{
 "cells": [
  {
   "cell_type": "markdown",
   "metadata": {},
   "source": [
    "## EIA V2 get_dataset examples"
   ]
  },
  {
   "cell_type": "code",
   "execution_count": 1,
   "metadata": {},
   "outputs": [],
   "source": [
    "import gridstatus\n",
    "import pandas as pd\n",
    "import requests\n",
    "import os\n",
    "import plotly.express as px\n",
    "import numpy as np\n",
    "import plotly.graph_objects as go"
   ]
  },
  {
   "cell_type": "markdown",
   "metadata": {},
   "source": [
    "### Example for electricity/rto/region-data.."
   ]
  },
  {
   "cell_type": "code",
   "execution_count": 2,
   "metadata": {},
   "outputs": [
    {
     "name": "stdout",
     "output_type": "stream",
     "text": [
      "              Interval Start              Interval End Respondent  \\\n",
      "0  2023-09-14 23:00:00+00:00 2023-09-15 00:00:00+00:00       AECI   \n",
      "1  2023-09-14 23:00:00+00:00 2023-09-15 00:00:00+00:00        AVA   \n",
      "2  2023-09-14 23:00:00+00:00 2023-09-15 00:00:00+00:00       AVRN   \n",
      "3  2023-09-14 23:00:00+00:00 2023-09-15 00:00:00+00:00       AZPS   \n",
      "4  2023-09-14 23:00:00+00:00 2023-09-15 00:00:00+00:00       BANC   \n",
      "..                       ...                       ...        ...   \n",
      "71 2023-09-14 23:00:00+00:00 2023-09-15 00:00:00+00:00       WACM   \n",
      "72 2023-09-14 23:00:00+00:00 2023-09-15 00:00:00+00:00       WALC   \n",
      "73 2023-09-14 23:00:00+00:00 2023-09-15 00:00:00+00:00       WAUW   \n",
      "74 2023-09-14 23:00:00+00:00 2023-09-15 00:00:00+00:00        WWA   \n",
      "75 2023-09-14 23:00:00+00:00 2023-09-15 00:00:00+00:00        YAD   \n",
      "\n",
      "                                      Respondent Name  Load  Load Forecast  \\\n",
      "0               Associated Electric Cooperative, Inc.  2786           2799   \n",
      "1                                  Avista Corporation  1541           1485   \n",
      "2                            Avangrid Renewables, LLC  <NA>           <NA>   \n",
      "3                      Arizona Public Service Company  5664           5734   \n",
      "4          Balancing Authority of Northern California  3340           3358   \n",
      "..                                                ...   ...            ...   \n",
      "71  Western Area Power Administration - Rocky Moun...  4432           3297   \n",
      "72  Western Area Power Administration - Desert Sou...  1164           1303   \n",
      "73  Western Area Power Administration - Upper Grea...   100             94   \n",
      "74                          NaturEner Wind Watch, LLC  <NA>           <NA>   \n",
      "75     Alcoa Power Generating, Inc. - Yadkin Division  <NA>           <NA>   \n",
      "\n",
      "    Net Generation  Total Interchange  \n",
      "0             2626               -160  \n",
      "1             1044               -497  \n",
      "2             1012               1012  \n",
      "3             3575              -2089  \n",
      "4             2896               -444  \n",
      "..             ...                ...  \n",
      "71            4432                  0  \n",
      "72            1164                  0  \n",
      "73              80                -20  \n",
      "74               0                 -2  \n",
      "75             174                169  \n",
      "\n",
      "[76 rows x 8 columns]\n"
     ]
    }
   ],
   "source": [
    "iso = gridstatus.EIA()\n",
    "df = iso.get_dataset(\"electricity/rto/region-data\", \"Sep 15, 2023\", \"Sep 15, 2023\")\n",
    "print(df)"
   ]
  },
  {
   "cell_type": "markdown",
   "metadata": {},
   "source": [
    "### Let's graph this data"
   ]
  },
  {
   "cell_type": "code",
   "execution_count": 5,
   "metadata": {},
   "outputs": [
    {
     "data": {
      "application/vnd.plotly.v1+json": {
       "config": {
        "plotlyServerURL": "https://plot.ly"
       },
       "data": [
        {
         "alignmentgroup": "True",
         "hovertemplate": "variable=Load<br>Respondent=%{x}<br>value=%{y}<extra></extra>",
         "legendgroup": "Load",
         "marker": {
          "color": "#636efa",
          "pattern": {
           "shape": ""
          }
         },
         "name": "Load",
         "offsetgroup": "Load",
         "orientation": "v",
         "showlegend": true,
         "textposition": "auto",
         "type": "bar",
         "x": [
          "AECI",
          "AVA",
          "AVRN",
          "AZPS",
          "BANC",
          "BPAT",
          "CAL",
          "CAR",
          "CENT",
          "CHPD",
          "CISO",
          "CPLE",
          "CPLW",
          "DEAA",
          "DOPD",
          "DUK",
          "EPE",
          "ERCO",
          "FLA",
          "FMPP",
          "FPC",
          "FPL",
          "GCPD",
          "GRID",
          "GRIF",
          "GVL",
          "GWA",
          "HGMA",
          "HST",
          "IID",
          "IPCO",
          "ISNE",
          "JEA",
          "LDWP",
          "LGEE",
          "MIDA",
          "MIDW",
          "MISO",
          "NE",
          "NEVP",
          "NW",
          "NWMT",
          "NY",
          "NYIS",
          "PACE",
          "PACW",
          "PGE",
          "PJM",
          "PNM",
          "PSCO",
          "PSEI",
          "SC",
          "SCEG",
          "SCL",
          "SE",
          "SEC",
          "SEPA",
          "SOCO",
          "SPA",
          "SRP",
          "SW",
          "SWPP",
          "TAL",
          "TEC",
          "TEN",
          "TEPC",
          "TEX",
          "TIDC",
          "TPWR",
          "TVA",
          "US48",
          "WACM",
          "WALC",
          "WAUW",
          "WWA",
          "YAD"
         ],
         "xaxis": "x",
         "y": [
          2786,
          1541,
          null,
          5664,
          3340,
          6836,
          38520,
          31348,
          34597,
          218,
          30217,
          8906,
          592,
          null,
          285,
          14662,
          1638,
          61081,
          43569,
          3118,
          9722,
          23774,
          800,
          null,
          null,
          384,
          null,
          null,
          102,
          838,
          2604,
          15747,
          2015,
          3564,
          4647,
          96723,
          86879,
          79446,
          15747,
          5578,
          46162,
          1351,
          19578,
          19578,
          6453,
          2933,
          3182,
          96723,
          1804,
          5282,
          2944,
          3729,
          3459,
          1096,
          31482,
          331,
          null,
          31482,
          13,
          5908,
          18619,
          34584,
          485,
          3638,
          20345,
          2441,
          61081,
          561,
          527,
          20345,
          544650,
          4432,
          1164,
          100,
          null,
          null
         ],
         "yaxis": "y"
        },
        {
         "alignmentgroup": "True",
         "hovertemplate": "variable=Load Forecast<br>Respondent=%{x}<br>value=%{y}<extra></extra>",
         "legendgroup": "Load Forecast",
         "marker": {
          "color": "#EF553B",
          "pattern": {
           "shape": ""
          }
         },
         "name": "Load Forecast",
         "offsetgroup": "Load Forecast",
         "orientation": "v",
         "showlegend": true,
         "textposition": "auto",
         "type": "bar",
         "x": [
          "AECI",
          "AVA",
          "AVRN",
          "AZPS",
          "BANC",
          "BPAT",
          "CAL",
          "CAR",
          "CENT",
          "CHPD",
          "CISO",
          "CPLE",
          "CPLW",
          "DEAA",
          "DOPD",
          "DUK",
          "EPE",
          "ERCO",
          "FLA",
          "FMPP",
          "FPC",
          "FPL",
          "GCPD",
          "GRID",
          "GRIF",
          "GVL",
          "GWA",
          "HGMA",
          "HST",
          "IID",
          "IPCO",
          "ISNE",
          "JEA",
          "LDWP",
          "LGEE",
          "MIDA",
          "MIDW",
          "MISO",
          "NE",
          "NEVP",
          "NW",
          "NWMT",
          "NY",
          "NYIS",
          "PACE",
          "PACW",
          "PGE",
          "PJM",
          "PNM",
          "PSCO",
          "PSEI",
          "SC",
          "SCEG",
          "SCL",
          "SE",
          "SEC",
          "SEPA",
          "SOCO",
          "SPA",
          "SRP",
          "SW",
          "SWPP",
          "TAL",
          "TEC",
          "TEN",
          "TEPC",
          "TEX",
          "TIDC",
          "TPWR",
          "TVA",
          "US48",
          "WACM",
          "WALC",
          "WAUW",
          "WWA",
          "YAD"
         ],
         "xaxis": "x",
         "y": [
          2799,
          1485,
          null,
          5734,
          3358,
          6918,
          39815,
          30128,
          34666,
          214,
          31481,
          8424,
          560,
          null,
          256,
          13961,
          1624,
          65136,
          40580,
          3250,
          7369,
          22984,
          768,
          null,
          null,
          303,
          null,
          null,
          115,
          768,
          2606,
          15290,
          2012,
          3666,
          4290,
          94744,
          89770,
          82681,
          15290,
          5800,
          45007,
          1393,
          18973,
          18973,
          6823,
          2956,
          3152,
          94744,
          1642,
          4928,
          2712,
          3785,
          3398,
          1075,
          31099,
          309,
          null,
          31099,
          49,
          5614,
          18296,
          34617,
          452,
          3786,
          21079,
          2379,
          65136,
          542,
          530,
          21079,
          544583,
          3297,
          1303,
          94,
          null,
          null
         ],
         "yaxis": "y"
        },
        {
         "alignmentgroup": "True",
         "hovertemplate": "variable=Net Generation<br>Respondent=%{x}<br>value=%{y}<extra></extra>",
         "legendgroup": "Net Generation",
         "marker": {
          "color": "#00cc96",
          "pattern": {
           "shape": ""
          }
         },
         "name": "Net Generation",
         "offsetgroup": "Net Generation",
         "orientation": "v",
         "showlegend": true,
         "textposition": "auto",
         "type": "bar",
         "x": [
          "AECI",
          "AVA",
          "AVRN",
          "AZPS",
          "BANC",
          "BPAT",
          "CAL",
          "CAR",
          "CENT",
          "CHPD",
          "CISO",
          "CPLE",
          "CPLW",
          "DEAA",
          "DOPD",
          "DUK",
          "EPE",
          "ERCO",
          "FLA",
          "FMPP",
          "FPC",
          "FPL",
          "GCPD",
          "GRID",
          "GRIF",
          "GVL",
          "GWA",
          "HGMA",
          "HST",
          "IID",
          "IPCO",
          "ISNE",
          "JEA",
          "LDWP",
          "LGEE",
          "MIDA",
          "MIDW",
          "MISO",
          "NE",
          "NEVP",
          "NW",
          "NWMT",
          "NY",
          "NYIS",
          "PACE",
          "PACW",
          "PGE",
          "PJM",
          "PNM",
          "PSCO",
          "PSEI",
          "SC",
          "SCEG",
          "SCL",
          "SE",
          "SEC",
          "SEPA",
          "SOCO",
          "SPA",
          "SRP",
          "SW",
          "SWPP",
          "TAL",
          "TEC",
          "TEN",
          "TEPC",
          "TEX",
          "TIDC",
          "TPWR",
          "TVA",
          "US48",
          "WACM",
          "WALC",
          "WAUW",
          "WWA",
          "YAD"
         ],
         "xaxis": "x",
         "y": [
          2626,
          1044,
          1012,
          3575,
          2896,
          8876,
          37573,
          31010,
          35085,
          820,
          30406,
          8923,
          330,
          451,
          194,
          15065,
          1155,
          60800,
          41874,
          2854,
          7568,
          23880,
          810,
          2116,
          481,
          343,
          0,
          969,
          0,
          1232,
          2096,
          13205,
          1342,
          2631,
          4260,
          100729,
          84986,
          78100,
          13205,
          4776,
          45342,
          2151,
          17024,
          17024,
          6974,
          690,
          1127,
          100729,
          1779,
          5931,
          1289,
          2637,
          3881,
          575,
          33640,
          2087,
          599,
          33041,
          140,
          8568,
          19910,
          34945,
          485,
          3315,
          20597,
          1768,
          60800,
          408,
          349,
          20597,
          541775,
          4432,
          1164,
          80,
          0,
          174
         ],
         "yaxis": "y"
        },
        {
         "alignmentgroup": "True",
         "hovertemplate": "variable=Total Interchange<br>Respondent=%{x}<br>value=%{y}<extra></extra>",
         "legendgroup": "Total Interchange",
         "marker": {
          "color": "#ab63fa",
          "pattern": {
           "shape": ""
          }
         },
         "name": "Total Interchange",
         "offsetgroup": "Total Interchange",
         "orientation": "v",
         "showlegend": true,
         "textposition": "auto",
         "type": "bar",
         "x": [
          "AECI",
          "AVA",
          "AVRN",
          "AZPS",
          "BANC",
          "BPAT",
          "CAL",
          "CAR",
          "CENT",
          "CHPD",
          "CISO",
          "CPLE",
          "CPLW",
          "DEAA",
          "DOPD",
          "DUK",
          "EPE",
          "ERCO",
          "FLA",
          "FMPP",
          "FPC",
          "FPL",
          "GCPD",
          "GRID",
          "GRIF",
          "GVL",
          "GWA",
          "HGMA",
          "HST",
          "IID",
          "IPCO",
          "ISNE",
          "JEA",
          "LDWP",
          "LGEE",
          "MIDA",
          "MIDW",
          "MISO",
          "NE",
          "NEVP",
          "NW",
          "NWMT",
          "NY",
          "NYIS",
          "PACE",
          "PACW",
          "PGE",
          "PJM",
          "PNM",
          "PSCO",
          "PSEI",
          "SC",
          "SCEG",
          "SCL",
          "SE",
          "SEC",
          "SEPA",
          "SOCO",
          "SPA",
          "SRP",
          "SW",
          "SWPP",
          "TAL",
          "TEC",
          "TEN",
          "TEPC",
          "TEX",
          "TIDC",
          "TPWR",
          "TVA",
          "US48",
          "WACM",
          "WALC",
          "WAUW",
          "WWA",
          "YAD"
         ],
         "xaxis": "x",
         "y": [
          -160,
          -497,
          1012,
          -2089,
          -444,
          6714,
          -2732,
          -343,
          488,
          602,
          -1600,
          17,
          -262,
          451,
          -91,
          403,
          -484,
          -281,
          -1685,
          -264,
          -2154,
          106,
          16,
          2116,
          481,
          -33,
          -2,
          969,
          -102,
          397,
          -508,
          -2542,
          -670,
          -933,
          -387,
          4010,
          -3337,
          -2790,
          -2542,
          -802,
          3856,
          800,
          -2554,
          -2554,
          521,
          -2243,
          -2055,
          4010,
          -38,
          649,
          -1655,
          -1092,
          422,
          -521,
          2154,
          1756,
          595,
          1559,
          127,
          2660,
          1277,
          361,
          0,
          -324,
          247,
          -673,
          -281,
          -152,
          -178,
          247,
          -1442,
          0,
          0,
          -20,
          -2,
          169
         ],
         "yaxis": "y"
        }
       ],
       "layout": {
        "bargap": 0.1,
        "bargroupgap": 0.05,
        "barmode": "relative",
        "legend": {
         "title": {
          "text": "variable"
         },
         "tracegroupgap": 0
        },
        "template": {
         "data": {
          "bar": [
           {
            "error_x": {
             "color": "#2a3f5f"
            },
            "error_y": {
             "color": "#2a3f5f"
            },
            "marker": {
             "line": {
              "color": "#E5ECF6",
              "width": 0.5
             },
             "pattern": {
              "fillmode": "overlay",
              "size": 10,
              "solidity": 0.2
             }
            },
            "type": "bar"
           }
          ],
          "barpolar": [
           {
            "marker": {
             "line": {
              "color": "#E5ECF6",
              "width": 0.5
             },
             "pattern": {
              "fillmode": "overlay",
              "size": 10,
              "solidity": 0.2
             }
            },
            "type": "barpolar"
           }
          ],
          "carpet": [
           {
            "aaxis": {
             "endlinecolor": "#2a3f5f",
             "gridcolor": "white",
             "linecolor": "white",
             "minorgridcolor": "white",
             "startlinecolor": "#2a3f5f"
            },
            "baxis": {
             "endlinecolor": "#2a3f5f",
             "gridcolor": "white",
             "linecolor": "white",
             "minorgridcolor": "white",
             "startlinecolor": "#2a3f5f"
            },
            "type": "carpet"
           }
          ],
          "choropleth": [
           {
            "colorbar": {
             "outlinewidth": 0,
             "ticks": ""
            },
            "type": "choropleth"
           }
          ],
          "contour": [
           {
            "colorbar": {
             "outlinewidth": 0,
             "ticks": ""
            },
            "colorscale": [
             [
              0,
              "#0d0887"
             ],
             [
              0.1111111111111111,
              "#46039f"
             ],
             [
              0.2222222222222222,
              "#7201a8"
             ],
             [
              0.3333333333333333,
              "#9c179e"
             ],
             [
              0.4444444444444444,
              "#bd3786"
             ],
             [
              0.5555555555555556,
              "#d8576b"
             ],
             [
              0.6666666666666666,
              "#ed7953"
             ],
             [
              0.7777777777777778,
              "#fb9f3a"
             ],
             [
              0.8888888888888888,
              "#fdca26"
             ],
             [
              1,
              "#f0f921"
             ]
            ],
            "type": "contour"
           }
          ],
          "contourcarpet": [
           {
            "colorbar": {
             "outlinewidth": 0,
             "ticks": ""
            },
            "type": "contourcarpet"
           }
          ],
          "heatmap": [
           {
            "colorbar": {
             "outlinewidth": 0,
             "ticks": ""
            },
            "colorscale": [
             [
              0,
              "#0d0887"
             ],
             [
              0.1111111111111111,
              "#46039f"
             ],
             [
              0.2222222222222222,
              "#7201a8"
             ],
             [
              0.3333333333333333,
              "#9c179e"
             ],
             [
              0.4444444444444444,
              "#bd3786"
             ],
             [
              0.5555555555555556,
              "#d8576b"
             ],
             [
              0.6666666666666666,
              "#ed7953"
             ],
             [
              0.7777777777777778,
              "#fb9f3a"
             ],
             [
              0.8888888888888888,
              "#fdca26"
             ],
             [
              1,
              "#f0f921"
             ]
            ],
            "type": "heatmap"
           }
          ],
          "heatmapgl": [
           {
            "colorbar": {
             "outlinewidth": 0,
             "ticks": ""
            },
            "colorscale": [
             [
              0,
              "#0d0887"
             ],
             [
              0.1111111111111111,
              "#46039f"
             ],
             [
              0.2222222222222222,
              "#7201a8"
             ],
             [
              0.3333333333333333,
              "#9c179e"
             ],
             [
              0.4444444444444444,
              "#bd3786"
             ],
             [
              0.5555555555555556,
              "#d8576b"
             ],
             [
              0.6666666666666666,
              "#ed7953"
             ],
             [
              0.7777777777777778,
              "#fb9f3a"
             ],
             [
              0.8888888888888888,
              "#fdca26"
             ],
             [
              1,
              "#f0f921"
             ]
            ],
            "type": "heatmapgl"
           }
          ],
          "histogram": [
           {
            "marker": {
             "pattern": {
              "fillmode": "overlay",
              "size": 10,
              "solidity": 0.2
             }
            },
            "type": "histogram"
           }
          ],
          "histogram2d": [
           {
            "colorbar": {
             "outlinewidth": 0,
             "ticks": ""
            },
            "colorscale": [
             [
              0,
              "#0d0887"
             ],
             [
              0.1111111111111111,
              "#46039f"
             ],
             [
              0.2222222222222222,
              "#7201a8"
             ],
             [
              0.3333333333333333,
              "#9c179e"
             ],
             [
              0.4444444444444444,
              "#bd3786"
             ],
             [
              0.5555555555555556,
              "#d8576b"
             ],
             [
              0.6666666666666666,
              "#ed7953"
             ],
             [
              0.7777777777777778,
              "#fb9f3a"
             ],
             [
              0.8888888888888888,
              "#fdca26"
             ],
             [
              1,
              "#f0f921"
             ]
            ],
            "type": "histogram2d"
           }
          ],
          "histogram2dcontour": [
           {
            "colorbar": {
             "outlinewidth": 0,
             "ticks": ""
            },
            "colorscale": [
             [
              0,
              "#0d0887"
             ],
             [
              0.1111111111111111,
              "#46039f"
             ],
             [
              0.2222222222222222,
              "#7201a8"
             ],
             [
              0.3333333333333333,
              "#9c179e"
             ],
             [
              0.4444444444444444,
              "#bd3786"
             ],
             [
              0.5555555555555556,
              "#d8576b"
             ],
             [
              0.6666666666666666,
              "#ed7953"
             ],
             [
              0.7777777777777778,
              "#fb9f3a"
             ],
             [
              0.8888888888888888,
              "#fdca26"
             ],
             [
              1,
              "#f0f921"
             ]
            ],
            "type": "histogram2dcontour"
           }
          ],
          "mesh3d": [
           {
            "colorbar": {
             "outlinewidth": 0,
             "ticks": ""
            },
            "type": "mesh3d"
           }
          ],
          "parcoords": [
           {
            "line": {
             "colorbar": {
              "outlinewidth": 0,
              "ticks": ""
             }
            },
            "type": "parcoords"
           }
          ],
          "pie": [
           {
            "automargin": true,
            "type": "pie"
           }
          ],
          "scatter": [
           {
            "fillpattern": {
             "fillmode": "overlay",
             "size": 10,
             "solidity": 0.2
            },
            "type": "scatter"
           }
          ],
          "scatter3d": [
           {
            "line": {
             "colorbar": {
              "outlinewidth": 0,
              "ticks": ""
             }
            },
            "marker": {
             "colorbar": {
              "outlinewidth": 0,
              "ticks": ""
             }
            },
            "type": "scatter3d"
           }
          ],
          "scattercarpet": [
           {
            "marker": {
             "colorbar": {
              "outlinewidth": 0,
              "ticks": ""
             }
            },
            "type": "scattercarpet"
           }
          ],
          "scattergeo": [
           {
            "marker": {
             "colorbar": {
              "outlinewidth": 0,
              "ticks": ""
             }
            },
            "type": "scattergeo"
           }
          ],
          "scattergl": [
           {
            "marker": {
             "colorbar": {
              "outlinewidth": 0,
              "ticks": ""
             }
            },
            "type": "scattergl"
           }
          ],
          "scattermapbox": [
           {
            "marker": {
             "colorbar": {
              "outlinewidth": 0,
              "ticks": ""
             }
            },
            "type": "scattermapbox"
           }
          ],
          "scatterpolar": [
           {
            "marker": {
             "colorbar": {
              "outlinewidth": 0,
              "ticks": ""
             }
            },
            "type": "scatterpolar"
           }
          ],
          "scatterpolargl": [
           {
            "marker": {
             "colorbar": {
              "outlinewidth": 0,
              "ticks": ""
             }
            },
            "type": "scatterpolargl"
           }
          ],
          "scatterternary": [
           {
            "marker": {
             "colorbar": {
              "outlinewidth": 0,
              "ticks": ""
             }
            },
            "type": "scatterternary"
           }
          ],
          "surface": [
           {
            "colorbar": {
             "outlinewidth": 0,
             "ticks": ""
            },
            "colorscale": [
             [
              0,
              "#0d0887"
             ],
             [
              0.1111111111111111,
              "#46039f"
             ],
             [
              0.2222222222222222,
              "#7201a8"
             ],
             [
              0.3333333333333333,
              "#9c179e"
             ],
             [
              0.4444444444444444,
              "#bd3786"
             ],
             [
              0.5555555555555556,
              "#d8576b"
             ],
             [
              0.6666666666666666,
              "#ed7953"
             ],
             [
              0.7777777777777778,
              "#fb9f3a"
             ],
             [
              0.8888888888888888,
              "#fdca26"
             ],
             [
              1,
              "#f0f921"
             ]
            ],
            "type": "surface"
           }
          ],
          "table": [
           {
            "cells": {
             "fill": {
              "color": "#EBF0F8"
             },
             "line": {
              "color": "white"
             }
            },
            "header": {
             "fill": {
              "color": "#C8D4E3"
             },
             "line": {
              "color": "white"
             }
            },
            "type": "table"
           }
          ]
         },
         "layout": {
          "annotationdefaults": {
           "arrowcolor": "#2a3f5f",
           "arrowhead": 0,
           "arrowwidth": 1
          },
          "autotypenumbers": "strict",
          "coloraxis": {
           "colorbar": {
            "outlinewidth": 0,
            "ticks": ""
           }
          },
          "colorscale": {
           "diverging": [
            [
             0,
             "#8e0152"
            ],
            [
             0.1,
             "#c51b7d"
            ],
            [
             0.2,
             "#de77ae"
            ],
            [
             0.3,
             "#f1b6da"
            ],
            [
             0.4,
             "#fde0ef"
            ],
            [
             0.5,
             "#f7f7f7"
            ],
            [
             0.6,
             "#e6f5d0"
            ],
            [
             0.7,
             "#b8e186"
            ],
            [
             0.8,
             "#7fbc41"
            ],
            [
             0.9,
             "#4d9221"
            ],
            [
             1,
             "#276419"
            ]
           ],
           "sequential": [
            [
             0,
             "#0d0887"
            ],
            [
             0.1111111111111111,
             "#46039f"
            ],
            [
             0.2222222222222222,
             "#7201a8"
            ],
            [
             0.3333333333333333,
             "#9c179e"
            ],
            [
             0.4444444444444444,
             "#bd3786"
            ],
            [
             0.5555555555555556,
             "#d8576b"
            ],
            [
             0.6666666666666666,
             "#ed7953"
            ],
            [
             0.7777777777777778,
             "#fb9f3a"
            ],
            [
             0.8888888888888888,
             "#fdca26"
            ],
            [
             1,
             "#f0f921"
            ]
           ],
           "sequentialminus": [
            [
             0,
             "#0d0887"
            ],
            [
             0.1111111111111111,
             "#46039f"
            ],
            [
             0.2222222222222222,
             "#7201a8"
            ],
            [
             0.3333333333333333,
             "#9c179e"
            ],
            [
             0.4444444444444444,
             "#bd3786"
            ],
            [
             0.5555555555555556,
             "#d8576b"
            ],
            [
             0.6666666666666666,
             "#ed7953"
            ],
            [
             0.7777777777777778,
             "#fb9f3a"
            ],
            [
             0.8888888888888888,
             "#fdca26"
            ],
            [
             1,
             "#f0f921"
            ]
           ]
          },
          "colorway": [
           "#636efa",
           "#EF553B",
           "#00cc96",
           "#ab63fa",
           "#FFA15A",
           "#19d3f3",
           "#FF6692",
           "#B6E880",
           "#FF97FF",
           "#FECB52"
          ],
          "font": {
           "color": "#2a3f5f"
          },
          "geo": {
           "bgcolor": "white",
           "lakecolor": "white",
           "landcolor": "#E5ECF6",
           "showlakes": true,
           "showland": true,
           "subunitcolor": "white"
          },
          "hoverlabel": {
           "align": "left"
          },
          "hovermode": "closest",
          "mapbox": {
           "style": "light"
          },
          "paper_bgcolor": "white",
          "plot_bgcolor": "#E5ECF6",
          "polar": {
           "angularaxis": {
            "gridcolor": "white",
            "linecolor": "white",
            "ticks": ""
           },
           "bgcolor": "#E5ECF6",
           "radialaxis": {
            "gridcolor": "white",
            "linecolor": "white",
            "ticks": ""
           }
          },
          "scene": {
           "xaxis": {
            "backgroundcolor": "#E5ECF6",
            "gridcolor": "white",
            "gridwidth": 2,
            "linecolor": "white",
            "showbackground": true,
            "ticks": "",
            "zerolinecolor": "white"
           },
           "yaxis": {
            "backgroundcolor": "#E5ECF6",
            "gridcolor": "white",
            "gridwidth": 2,
            "linecolor": "white",
            "showbackground": true,
            "ticks": "",
            "zerolinecolor": "white"
           },
           "zaxis": {
            "backgroundcolor": "#E5ECF6",
            "gridcolor": "white",
            "gridwidth": 2,
            "linecolor": "white",
            "showbackground": true,
            "ticks": "",
            "zerolinecolor": "white"
           }
          },
          "shapedefaults": {
           "line": {
            "color": "#2a3f5f"
           }
          },
          "ternary": {
           "aaxis": {
            "gridcolor": "white",
            "linecolor": "white",
            "ticks": ""
           },
           "baxis": {
            "gridcolor": "white",
            "linecolor": "white",
            "ticks": ""
           },
           "bgcolor": "#E5ECF6",
           "caxis": {
            "gridcolor": "white",
            "linecolor": "white",
            "ticks": ""
           }
          },
          "title": {
           "x": 0.05
          },
          "xaxis": {
           "automargin": true,
           "gridcolor": "white",
           "linecolor": "white",
           "ticks": "",
           "title": {
            "standoff": 15
           },
           "zerolinecolor": "white",
           "zerolinewidth": 2
          },
          "yaxis": {
           "automargin": true,
           "gridcolor": "white",
           "linecolor": "white",
           "ticks": "",
           "title": {
            "standoff": 15
           },
           "zerolinecolor": "white",
           "zerolinewidth": 2
          }
         }
        },
        "title": {
         "text": "EIA Generation Data for 9/15/2023"
        },
        "xaxis": {
         "anchor": "y",
         "domain": [
          0,
          1
         ],
         "tickangle": 45,
         "tickfont": {
          "size": 10
         },
         "title": {
          "text": "Respondent"
         }
        },
        "yaxis": {
         "anchor": "x",
         "domain": [
          0,
          1
         ],
         "title": {
          "text": "value"
         }
        }
       }
      }
     },
     "metadata": {},
     "output_type": "display_data"
    }
   ],
   "source": [
    "# Filter down to just the columns we want to graph\n",
    "df_new = df[\n",
    "    [\n",
    "        \"Interval Start\",\n",
    "        \"Respondent\",\n",
    "        \"Load\",\n",
    "        \"Load Forecast\",\n",
    "        \"Net Generation\",\n",
    "        \"Total Interchange\",\n",
    "    ]\n",
    "]\n",
    "columns = [\"Load\", \"Load Forecast\", \"Net Generation\", \"Total Interchange\"]\n",
    "\n",
    "# set up graph\n",
    "fig = px.bar(\n",
    "    df_new,\n",
    "    x=\"Respondent\",\n",
    "    y=columns,\n",
    "    title=\"EIA Generation Data for 9/15/2023\",\n",
    ")\n",
    "# Update x-axis labels appearance\n",
    "fig.update_xaxes(\n",
    "    tickangle=45, tickfont=dict(size=10)\n",
    ")  # Rotate and resize x-axis labels for better readability\n",
    "\n",
    "# Adjust bar width\n",
    "fig.update_layout(\n",
    "    bargap=0.1,  # Adjust the gap between bars\n",
    "    bargroupgap=0.05,  # Adjust the gap between groups of bars\n",
    ")\n",
    "\n",
    "# Show graph\n",
    "fig.show(width=1200, height=900)"
   ]
  },
  {
   "cell_type": "markdown",
   "metadata": {},
   "source": [
    "### Example for electricity/rto/interchange-data..."
   ]
  },
  {
   "cell_type": "code",
   "execution_count": 8,
   "metadata": {},
   "outputs": [
    {
     "name": "stdout",
     "output_type": "stream",
     "text": [
      "               Interval Start              Interval End From BA  \\\n",
      "0   2023-09-14 23:00:00+00:00 2023-09-15 00:00:00+00:00    AECI   \n",
      "1   2023-09-14 23:00:00+00:00 2023-09-15 00:00:00+00:00    AECI   \n",
      "2   2023-09-14 23:00:00+00:00 2023-09-15 00:00:00+00:00    AECI   \n",
      "3   2023-09-14 23:00:00+00:00 2023-09-15 00:00:00+00:00    AECI   \n",
      "4   2023-09-14 23:00:00+00:00 2023-09-15 00:00:00+00:00     AVA   \n",
      "..                        ...                       ...     ...   \n",
      "335 2023-09-14 23:00:00+00:00 2023-09-15 00:00:00+00:00    WAUW   \n",
      "336 2023-09-14 23:00:00+00:00 2023-09-15 00:00:00+00:00    WAUW   \n",
      "337 2023-09-14 23:00:00+00:00 2023-09-15 00:00:00+00:00     WWA   \n",
      "338 2023-09-14 23:00:00+00:00 2023-09-15 00:00:00+00:00     YAD   \n",
      "339 2023-09-14 23:00:00+00:00 2023-09-15 00:00:00+00:00     YAD   \n",
      "\n",
      "                                          From BA Name To BA  \\\n",
      "0                Associated Electric Cooperative, Inc.  MISO   \n",
      "1                Associated Electric Cooperative, Inc.   SPA   \n",
      "2                Associated Electric Cooperative, Inc.  SWPP   \n",
      "3                Associated Electric Cooperative, Inc.   TVA   \n",
      "4                                   Avista Corporation  BPAT   \n",
      "..                                                 ...   ...   \n",
      "335  Western Area Power Administration - Upper Grea...  SWPP   \n",
      "336  Western Area Power Administration - Upper Grea...  WACM   \n",
      "337                          NaturEner Wind Watch, LLC  NWMT   \n",
      "338     Alcoa Power Generating, Inc. - Yadkin Division  CPLE   \n",
      "339     Alcoa Power Generating, Inc. - Yadkin Division   DUK   \n",
      "\n",
      "                                            To BA Name   MW  \n",
      "0       Midcontinent Independent System Operator, Inc.   -3  \n",
      "1                    Southwestern Power Administration -104  \n",
      "2                                 Southwest Power Pool -237  \n",
      "3                           Tennessee Valley Authority  184  \n",
      "4                      Bonneville Power Administration -298  \n",
      "..                                                 ...  ...  \n",
      "335                               Southwest Power Pool  -80  \n",
      "336  Western Area Power Administration - Rocky Moun...    0  \n",
      "337                           NorthWestern Corporation   -2  \n",
      "338                          Duke Energy Progress East   24  \n",
      "339                              Duke Energy Carolinas  145  \n",
      "\n",
      "[340 rows x 7 columns]\n"
     ]
    }
   ],
   "source": [
    "df = iso.get_dataset(\"electricity/rto/interchange-data\", \"Sep 15, 2023\", \"Sep 15, 2023\")\n",
    "\n",
    "# Lets check out the data..\n",
    "print(df)"
   ]
  },
  {
   "cell_type": "markdown",
   "metadata": {},
   "source": [
    "### Graphing interchange data.."
   ]
  },
  {
   "cell_type": "code",
   "execution_count": 15,
   "metadata": {},
   "outputs": [
    {
     "data": {
      "application/vnd.plotly.v1+json": {
       "config": {
        "plotlyServerURL": "https://plot.ly"
       },
       "data": [
        {
         "marker": {
          "color": [
           "red",
           "red",
           "red",
           "green",
           "red",
           "green",
           "green",
           "red",
           "red",
           "red",
           "green",
           "green",
           "green",
           "green",
           "green",
           "green",
           "green",
           "red",
           "green",
           "red",
           "green",
           "red",
           "green",
           "red",
           "green",
           "red",
           "green",
           "green",
           "red",
           "green",
           "red",
           "green",
           "red",
           "red",
           "red",
           "red",
           "red",
           "green",
           "green",
           "green",
           "green",
           "green",
           "green",
           "green",
           "red",
           "green",
           "red",
           "red",
           "red",
           "green",
           "green",
           "green",
           "green",
           "red",
           "green",
           "green",
           "green",
           "red",
           "red",
           "red",
           "green",
           "red",
           "green",
           "red",
           "green",
           "red",
           "green",
           "green",
           "red",
           "green",
           "green",
           "red",
           "red",
           "red",
           "red",
           "red",
           "green",
           "green",
           "red",
           "green",
           "green",
           "green",
           "red",
           "red",
           "green",
           "green",
           "red",
           "red",
           "red",
           "green",
           "red",
           "green",
           "red",
           "red",
           "green",
           "red",
           "red",
           "red",
           "red",
           "red",
           "red",
           "red",
           "red",
           "red",
           "green",
           "green",
           "green",
           "green",
           "green",
           "green",
           "red",
           "red",
           "red",
           "red",
           "red",
           "green",
           "green",
           "green",
           "green",
           "green",
           "green",
           "green",
           "red",
           "red",
           "green",
           "red",
           "red",
           "green",
           "green",
           "green",
           "green",
           "red",
           "red",
           "red",
           "green",
           "red",
           "red",
           "red",
           "green",
           "red",
           "green",
           "red",
           "green",
           "red",
           "green",
           "green",
           "red",
           "green",
           "red",
           "red",
           "green",
           "green",
           "green",
           "red",
           "red",
           "red",
           "red",
           "red",
           "green",
           "green",
           "red",
           "red",
           "red",
           "red",
           "red",
           "red",
           "green",
           "green",
           "red",
           "red",
           "green",
           "green",
           "green",
           "red",
           "red",
           "red",
           "red",
           "green",
           "green",
           "green",
           "green",
           "green",
           "green",
           "green",
           "green",
           "red",
           "red",
           "green",
           "red",
           "red",
           "green",
           "red",
           "red",
           "green",
           "red",
           "red",
           "green",
           "red",
           "green",
           "green",
           "red",
           "green",
           "red",
           "red",
           "green",
           "red",
           "red",
           "red",
           "red",
           "green",
           "green",
           "green",
           "red",
           "green",
           "green",
           "green",
           "red",
           "red",
           "green",
           "red",
           "red",
           "red",
           "green",
           "red",
           "green",
           "green",
           "green",
           "red",
           "red",
           "red",
           "red",
           "red",
           "red",
           "green",
           "red",
           "red",
           "red",
           "green",
           "green",
           "green",
           "red",
           "red",
           "red",
           "green",
           "green",
           "green",
           "green",
           "red",
           "green",
           "green",
           "red",
           "green",
           "red",
           "green",
           "green",
           "green",
           "red",
           "green",
           "green",
           "green",
           "green",
           "green",
           "red",
           "green",
           "red",
           "green",
           "green",
           "red",
           "green",
           "green",
           "red",
           "red",
           "red",
           "green",
           "red",
           "green",
           "red",
           "red",
           "green",
           "green",
           "green",
           "red",
           "green",
           "red",
           "green",
           "red",
           "green",
           "green",
           "green",
           "red",
           "green",
           "red",
           "green",
           "red",
           "green",
           "green",
           "red",
           "green",
           "red",
           "green",
           "red",
           "red",
           "red",
           "red",
           "green",
           "green",
           "red",
           "red",
           "green",
           "red",
           "green",
           "green",
           "green",
           "red",
           "green",
           "green",
           "red",
           "green",
           "green",
           "green",
           "green",
           "green",
           "green",
           "green",
           "green",
           "green",
           "green",
           "green",
           "green",
           "green",
           "green",
           "green",
           "green",
           "green",
           "green",
           "red",
           "green",
           "red",
           "green",
           "green"
          ]
         },
         "name": "EIA Interchange Data",
         "textposition": "inside",
         "texttemplate": [
          "MISO",
          "SPA",
          "SWPP",
          "TVA",
          "BPAT",
          "CHPD",
          "GCPD",
          "IPCO",
          "NWMT",
          "PACW",
          "BPAT",
          "PACW",
          "CISO",
          "IID",
          "LDWP",
          "PACE",
          "PNM",
          "SRP",
          "TEPC",
          "WACM",
          "WALC",
          "BPAT",
          "CISO",
          "TIDC",
          "AVA",
          "AVRN",
          "BANC",
          "BCHA",
          "CHPD",
          "CISO",
          "DOPD",
          "GCPD",
          "GRID",
          "IPCO",
          "LDWP",
          "NEVP",
          "NWMT",
          "PACW",
          "PGE",
          "PSEI",
          "SCL",
          "TPWR",
          "MEX",
          "NW",
          "SW",
          "MIDA",
          "SE",
          "TEN",
          "CAN",
          "MIDW",
          "NW",
          "SW",
          "TEX",
          "AVA",
          "BPAT",
          "DOPD",
          "PSEI",
          "AZPS",
          "BANC",
          "BPAT",
          "CEN",
          "IID",
          "LDWP",
          "NEVP",
          "PACW",
          "SRP",
          "TIDC",
          "WALC",
          "DUK",
          "PJM",
          "SC",
          "SCEG",
          "YAD",
          "DUK",
          "PJM",
          "TVA",
          "SRP",
          "BPAT",
          "CHPD",
          "CPLE",
          "CPLW",
          "PJM",
          "SC",
          "SCEG",
          "SEPA",
          "SOCO",
          "TVA",
          "YAD",
          "PNM",
          "SWPP",
          "TEPC",
          "CEN",
          "SWPP",
          "SE",
          "FPC",
          "FPL",
          "JEA",
          "TEC",
          "FMPP",
          "FPL",
          "GVL",
          "SEC",
          "SOCO",
          "TAL",
          "TEC",
          "FMPP",
          "FPC",
          "GVL",
          "HST",
          "JEA",
          "SEC",
          "SOCO",
          "TEC",
          "AVA",
          "BPAT",
          "PACW",
          "PSEI",
          "BPAT",
          "PNM",
          "SRP",
          "WALC",
          "FPC",
          "FPL",
          "NWMT",
          "SRP",
          "FPL",
          "AZPS",
          "CISO",
          "WALC",
          "AVA",
          "BPAT",
          "NEVP",
          "NWMT",
          "PACE",
          "PACW",
          "HQT",
          "NBSO",
          "NYIS",
          "FMPP",
          "FPL",
          "SEC",
          "AZPS",
          "BPAT",
          "CISO",
          "NEVP",
          "PACE",
          "WALC",
          "MISO",
          "PJM",
          "TVA",
          "CAR",
          "MIDW",
          "NY",
          "TEN",
          "CAN",
          "CENT",
          "MIDA",
          "SE",
          "TEN",
          "AECI",
          "IESO",
          "LGEE",
          "MHEB",
          "PJM",
          "SOCO",
          "SPA",
          "SWPP",
          "TVA",
          "CAN",
          "NY",
          "BPAT",
          "CISO",
          "IPCO",
          "LDWP",
          "PACE",
          "WALC",
          "CAL",
          "CAN",
          "CENT",
          "SW",
          "AESO",
          "AVA",
          "BPAT",
          "GWA",
          "IPCO",
          "PACE",
          "WAUW",
          "WWA",
          "CAN",
          "MIDA",
          "NE",
          "HQT",
          "IESO",
          "ISNE",
          "PJM",
          "AZPS",
          "IPCO",
          "LDWP",
          "NEVP",
          "NWMT",
          "WACM",
          "AVA",
          "AVRN",
          "BPAT",
          "CISO",
          "GCPD",
          "IPCO",
          "PGE",
          "BPAT",
          "PACW",
          "CPLE",
          "CPLW",
          "DUK",
          "LGEE",
          "MISO",
          "NYIS",
          "TVA",
          "AZPS",
          "EPE",
          "GRID",
          "PSCO",
          "SWPP",
          "TEPC",
          "WACM",
          "PNM",
          "SWPP",
          "WACM",
          "BPAT",
          "CHPD",
          "GCPD",
          "SCL",
          "TPWR",
          "CPLE",
          "DUK",
          "SCEG",
          "SEPA",
          "SOCO",
          "CPLE",
          "DUK",
          "SC",
          "SEPA",
          "SOCO",
          "BPAT",
          "PSEI",
          "CAR",
          "FLA",
          "MIDW",
          "TEN",
          "FPC",
          "FPL",
          "JEA",
          "TEC",
          "DUK",
          "SC",
          "SCEG",
          "SOCO",
          "DUK",
          "FPC",
          "FPL",
          "MISO",
          "SC",
          "SCEG",
          "SEPA",
          "TAL",
          "TVA",
          "AECI",
          "MISO",
          "SWPP",
          "AZPS",
          "CISO",
          "DEAA",
          "GRID",
          "HGMA",
          "TEPC",
          "WALC",
          "CAL",
          "CENT",
          "NW",
          "AECI",
          "EPE",
          "ERCO",
          "MISO",
          "PNM",
          "PSCO",
          "SPA",
          "SPC",
          "WACM",
          "WAUW",
          "FPC",
          "SOCO",
          "FMPP",
          "FPC",
          "FPL",
          "SEC",
          "CAR",
          "MIDA",
          "MIDW",
          "SE",
          "AZPS",
          "EPE",
          "PNM",
          "SRP",
          "WALC",
          "CENT",
          "MEX",
          "BANC",
          "CISO",
          "BPAT",
          "PSEI",
          "AECI",
          "CPLW",
          "DUK",
          "LGEE",
          "MISO",
          "PJM",
          "SOCO",
          "CAN",
          "MEX",
          "AZPS",
          "PACE",
          "PNM",
          "PSCO",
          "SWPP",
          "WALC",
          "WAUW",
          "AZPS",
          "CISO",
          "GRIF",
          "IID",
          "LDWP",
          "NEVP",
          "SRP",
          "TEPC",
          "WACM",
          "NWMT",
          "SWPP",
          "WACM",
          "NWMT",
          "CPLE",
          "DUK"
         ],
         "type": "bar",
         "x": [
          "AECI",
          "AECI",
          "AECI",
          "AECI",
          "AVA",
          "AVA",
          "AVA",
          "AVA",
          "AVA",
          "AVA",
          "AVRN",
          "AVRN",
          "AZPS",
          "AZPS",
          "AZPS",
          "AZPS",
          "AZPS",
          "AZPS",
          "AZPS",
          "AZPS",
          "AZPS",
          "BANC",
          "BANC",
          "BANC",
          "BPAT",
          "BPAT",
          "BPAT",
          "BPAT",
          "BPAT",
          "BPAT",
          "BPAT",
          "BPAT",
          "BPAT",
          "BPAT",
          "BPAT",
          "BPAT",
          "BPAT",
          "BPAT",
          "BPAT",
          "BPAT",
          "BPAT",
          "BPAT",
          "CAL",
          "CAL",
          "CAL",
          "CAR",
          "CAR",
          "CAR",
          "CENT",
          "CENT",
          "CENT",
          "CENT",
          "CENT",
          "CHPD",
          "CHPD",
          "CHPD",
          "CHPD",
          "CISO",
          "CISO",
          "CISO",
          "CISO",
          "CISO",
          "CISO",
          "CISO",
          "CISO",
          "CISO",
          "CISO",
          "CISO",
          "CPLE",
          "CPLE",
          "CPLE",
          "CPLE",
          "CPLE",
          "CPLW",
          "CPLW",
          "CPLW",
          "DEAA",
          "DOPD",
          "DOPD",
          "DUK",
          "DUK",
          "DUK",
          "DUK",
          "DUK",
          "DUK",
          "DUK",
          "DUK",
          "DUK",
          "EPE",
          "EPE",
          "EPE",
          "ERCO",
          "ERCO",
          "FLA",
          "FMPP",
          "FMPP",
          "FMPP",
          "FMPP",
          "FPC",
          "FPC",
          "FPC",
          "FPC",
          "FPC",
          "FPC",
          "FPC",
          "FPL",
          "FPL",
          "FPL",
          "FPL",
          "FPL",
          "FPL",
          "FPL",
          "FPL",
          "GCPD",
          "GCPD",
          "GCPD",
          "GCPD",
          "GRID",
          "GRID",
          "GRID",
          "GRIF",
          "GVL",
          "GVL",
          "GWA",
          "HGMA",
          "HST",
          "IID",
          "IID",
          "IID",
          "IPCO",
          "IPCO",
          "IPCO",
          "IPCO",
          "IPCO",
          "IPCO",
          "ISNE",
          "ISNE",
          "ISNE",
          "JEA",
          "JEA",
          "JEA",
          "LDWP",
          "LDWP",
          "LDWP",
          "LDWP",
          "LDWP",
          "LDWP",
          "LGEE",
          "LGEE",
          "LGEE",
          "MIDA",
          "MIDA",
          "MIDA",
          "MIDA",
          "MIDW",
          "MIDW",
          "MIDW",
          "MIDW",
          "MIDW",
          "MISO",
          "MISO",
          "MISO",
          "MISO",
          "MISO",
          "MISO",
          "MISO",
          "MISO",
          "MISO",
          "NE",
          "NE",
          "NEVP",
          "NEVP",
          "NEVP",
          "NEVP",
          "NEVP",
          "NEVP",
          "NW",
          "NW",
          "NW",
          "NW",
          "NWMT",
          "NWMT",
          "NWMT",
          "NWMT",
          "NWMT",
          "NWMT",
          "NWMT",
          "NWMT",
          "NY",
          "NY",
          "NY",
          "NYIS",
          "NYIS",
          "NYIS",
          "NYIS",
          "PACE",
          "PACE",
          "PACE",
          "PACE",
          "PACE",
          "PACE",
          "PACW",
          "PACW",
          "PACW",
          "PACW",
          "PACW",
          "PACW",
          "PACW",
          "PGE",
          "PGE",
          "PJM",
          "PJM",
          "PJM",
          "PJM",
          "PJM",
          "PJM",
          "PJM",
          "PNM",
          "PNM",
          "PNM",
          "PNM",
          "PNM",
          "PNM",
          "PNM",
          "PSCO",
          "PSCO",
          "PSCO",
          "PSEI",
          "PSEI",
          "PSEI",
          "PSEI",
          "PSEI",
          "SC",
          "SC",
          "SC",
          "SC",
          "SC",
          "SCEG",
          "SCEG",
          "SCEG",
          "SCEG",
          "SCEG",
          "SCL",
          "SCL",
          "SE",
          "SE",
          "SE",
          "SE",
          "SEC",
          "SEC",
          "SEC",
          "SEC",
          "SEPA",
          "SEPA",
          "SEPA",
          "SEPA",
          "SOCO",
          "SOCO",
          "SOCO",
          "SOCO",
          "SOCO",
          "SOCO",
          "SOCO",
          "SOCO",
          "SOCO",
          "SPA",
          "SPA",
          "SPA",
          "SRP",
          "SRP",
          "SRP",
          "SRP",
          "SRP",
          "SRP",
          "SRP",
          "SW",
          "SW",
          "SW",
          "SWPP",
          "SWPP",
          "SWPP",
          "SWPP",
          "SWPP",
          "SWPP",
          "SWPP",
          "SWPP",
          "SWPP",
          "SWPP",
          "TAL",
          "TAL",
          "TEC",
          "TEC",
          "TEC",
          "TEC",
          "TEN",
          "TEN",
          "TEN",
          "TEN",
          "TEPC",
          "TEPC",
          "TEPC",
          "TEPC",
          "TEPC",
          "TEX",
          "TEX",
          "TIDC",
          "TIDC",
          "TPWR",
          "TPWR",
          "TVA",
          "TVA",
          "TVA",
          "TVA",
          "TVA",
          "TVA",
          "TVA",
          "US48",
          "US48",
          "WACM",
          "WACM",
          "WACM",
          "WACM",
          "WACM",
          "WACM",
          "WACM",
          "WALC",
          "WALC",
          "WALC",
          "WALC",
          "WALC",
          "WALC",
          "WALC",
          "WALC",
          "WALC",
          "WAUW",
          "WAUW",
          "WAUW",
          "WWA",
          "YAD",
          "YAD"
         ],
         "y": [
          -3,
          -104,
          -237,
          184,
          -298,
          3,
          72,
          -129,
          -33,
          -112,
          432,
          580,
          790,
          5,
          475,
          30,
          12,
          -4502,
          133,
          -189,
          1157,
          -113,
          74,
          -405,
          542,
          -174,
          113,
          2275,
          -291,
          273,
          -66,
          38,
          -209,
          -118,
          -310,
          -61,
          -787,
          751,
          2148,
          1335,
          901,
          354,
          43,
          167,
          -2942,
          139,
          -269,
          -149,
          -142,
          42,
          132,
          90,
          378,
          -3,
          290,
          154,
          161,
          -790,
          -74,
          -273,
          43,
          -359,
          864,
          -931,
          0,
          -767,
          557,
          130,
          -204,
          233,
          89,
          -77,
          -24,
          -157,
          -103,
          -2,
          451,
          66,
          -157,
          204,
          157,
          9,
          -379,
          -86,
          65,
          725,
          -147,
          -145,
          -444,
          0,
          -40,
          90,
          -372,
          -1688,
          540,
          -503,
          -37,
          -264,
          -536,
          -1633,
          -47,
          -306,
          -127,
          -152,
          647,
          503,
          1633,
          81,
          102,
          729,
          -1063,
          -1409,
          -470,
          -72,
          -38,
          124,
          2,
          1405,
          14,
          697,
          481,
          46,
          -80,
          -2,
          969,
          -102,
          -5,
          359,
          43,
          129,
          118,
          -128,
          -11,
          -1401,
          785,
          -1515,
          -107,
          -920,
          37,
          -729,
          22,
          -475,
          310,
          -864,
          1099,
          75,
          -1078,
          119,
          -143,
          -363,
          177,
          963,
          1449,
          -679,
          -1859,
          -7,
          -1660,
          -834,
          1018,
          8,
          -928,
          -119,
          -931,
          -1517,
          -834,
          -183,
          517,
          1197,
          -1622,
          -920,
          61,
          931,
          128,
          -1099,
          -260,
          -563,
          -167,
          2345,
          25,
          269,
          70,
          33,
          787,
          2,
          11,
          -45,
          -60,
          2,
          -484,
          -2988,
          918,
          -256,
          -228,
          918,
          -2988,
          -30,
          1401,
          -75,
          260,
          45,
          -1080,
          112,
          -580,
          -756,
          0,
          -124,
          -785,
          -110,
          -2165,
          110,
          62,
          144,
          -29,
          150,
          813,
          1449,
          -679,
          -12,
          444,
          -14,
          -151,
          -90,
          15,
          -231,
          151,
          105,
          393,
          -1329,
          -161,
          -2,
          -90,
          -73,
          -89,
          379,
          -1142,
          -42,
          -198,
          77,
          86,
          1078,
          -18,
          -801,
          -611,
          90,
          269,
          1683,
          688,
          -486,
          306,
          1060,
          -22,
          412,
          -65,
          42,
          18,
          600,
          -725,
          127,
          1404,
          688,
          198,
          801,
          -600,
          152,
          -486,
          104,
          182,
          -159,
          4427,
          222,
          -451,
          -697,
          -969,
          348,
          -220,
          1492,
          -90,
          -1252,
          276,
          0,
          378,
          -520,
          90,
          -105,
          159,
          -142,
          157,
          80,
          152,
          -152,
          264,
          -647,
          470,
          -412,
          149,
          609,
          -998,
          486,
          -133,
          40,
          -15,
          -348,
          -217,
          -372,
          90,
          405,
          -557,
          -251,
          73,
          -183,
          2,
          147,
          363,
          -1178,
          609,
          486,
          -1762,
          133,
          0,
          0,
          0,
          0,
          0,
          0,
          0,
          0,
          0,
          0,
          0,
          0,
          0,
          0,
          0,
          0,
          60,
          -80,
          0,
          -2,
          24,
          145
         ]
        }
       ],
       "layout": {
        "bargap": 0.1,
        "bargroupgap": 0.05,
        "template": {
         "data": {
          "bar": [
           {
            "error_x": {
             "color": "#2a3f5f"
            },
            "error_y": {
             "color": "#2a3f5f"
            },
            "marker": {
             "line": {
              "color": "#E5ECF6",
              "width": 0.5
             },
             "pattern": {
              "fillmode": "overlay",
              "size": 10,
              "solidity": 0.2
             }
            },
            "type": "bar"
           }
          ],
          "barpolar": [
           {
            "marker": {
             "line": {
              "color": "#E5ECF6",
              "width": 0.5
             },
             "pattern": {
              "fillmode": "overlay",
              "size": 10,
              "solidity": 0.2
             }
            },
            "type": "barpolar"
           }
          ],
          "carpet": [
           {
            "aaxis": {
             "endlinecolor": "#2a3f5f",
             "gridcolor": "white",
             "linecolor": "white",
             "minorgridcolor": "white",
             "startlinecolor": "#2a3f5f"
            },
            "baxis": {
             "endlinecolor": "#2a3f5f",
             "gridcolor": "white",
             "linecolor": "white",
             "minorgridcolor": "white",
             "startlinecolor": "#2a3f5f"
            },
            "type": "carpet"
           }
          ],
          "choropleth": [
           {
            "colorbar": {
             "outlinewidth": 0,
             "ticks": ""
            },
            "type": "choropleth"
           }
          ],
          "contour": [
           {
            "colorbar": {
             "outlinewidth": 0,
             "ticks": ""
            },
            "colorscale": [
             [
              0,
              "#0d0887"
             ],
             [
              0.1111111111111111,
              "#46039f"
             ],
             [
              0.2222222222222222,
              "#7201a8"
             ],
             [
              0.3333333333333333,
              "#9c179e"
             ],
             [
              0.4444444444444444,
              "#bd3786"
             ],
             [
              0.5555555555555556,
              "#d8576b"
             ],
             [
              0.6666666666666666,
              "#ed7953"
             ],
             [
              0.7777777777777778,
              "#fb9f3a"
             ],
             [
              0.8888888888888888,
              "#fdca26"
             ],
             [
              1,
              "#f0f921"
             ]
            ],
            "type": "contour"
           }
          ],
          "contourcarpet": [
           {
            "colorbar": {
             "outlinewidth": 0,
             "ticks": ""
            },
            "type": "contourcarpet"
           }
          ],
          "heatmap": [
           {
            "colorbar": {
             "outlinewidth": 0,
             "ticks": ""
            },
            "colorscale": [
             [
              0,
              "#0d0887"
             ],
             [
              0.1111111111111111,
              "#46039f"
             ],
             [
              0.2222222222222222,
              "#7201a8"
             ],
             [
              0.3333333333333333,
              "#9c179e"
             ],
             [
              0.4444444444444444,
              "#bd3786"
             ],
             [
              0.5555555555555556,
              "#d8576b"
             ],
             [
              0.6666666666666666,
              "#ed7953"
             ],
             [
              0.7777777777777778,
              "#fb9f3a"
             ],
             [
              0.8888888888888888,
              "#fdca26"
             ],
             [
              1,
              "#f0f921"
             ]
            ],
            "type": "heatmap"
           }
          ],
          "heatmapgl": [
           {
            "colorbar": {
             "outlinewidth": 0,
             "ticks": ""
            },
            "colorscale": [
             [
              0,
              "#0d0887"
             ],
             [
              0.1111111111111111,
              "#46039f"
             ],
             [
              0.2222222222222222,
              "#7201a8"
             ],
             [
              0.3333333333333333,
              "#9c179e"
             ],
             [
              0.4444444444444444,
              "#bd3786"
             ],
             [
              0.5555555555555556,
              "#d8576b"
             ],
             [
              0.6666666666666666,
              "#ed7953"
             ],
             [
              0.7777777777777778,
              "#fb9f3a"
             ],
             [
              0.8888888888888888,
              "#fdca26"
             ],
             [
              1,
              "#f0f921"
             ]
            ],
            "type": "heatmapgl"
           }
          ],
          "histogram": [
           {
            "marker": {
             "pattern": {
              "fillmode": "overlay",
              "size": 10,
              "solidity": 0.2
             }
            },
            "type": "histogram"
           }
          ],
          "histogram2d": [
           {
            "colorbar": {
             "outlinewidth": 0,
             "ticks": ""
            },
            "colorscale": [
             [
              0,
              "#0d0887"
             ],
             [
              0.1111111111111111,
              "#46039f"
             ],
             [
              0.2222222222222222,
              "#7201a8"
             ],
             [
              0.3333333333333333,
              "#9c179e"
             ],
             [
              0.4444444444444444,
              "#bd3786"
             ],
             [
              0.5555555555555556,
              "#d8576b"
             ],
             [
              0.6666666666666666,
              "#ed7953"
             ],
             [
              0.7777777777777778,
              "#fb9f3a"
             ],
             [
              0.8888888888888888,
              "#fdca26"
             ],
             [
              1,
              "#f0f921"
             ]
            ],
            "type": "histogram2d"
           }
          ],
          "histogram2dcontour": [
           {
            "colorbar": {
             "outlinewidth": 0,
             "ticks": ""
            },
            "colorscale": [
             [
              0,
              "#0d0887"
             ],
             [
              0.1111111111111111,
              "#46039f"
             ],
             [
              0.2222222222222222,
              "#7201a8"
             ],
             [
              0.3333333333333333,
              "#9c179e"
             ],
             [
              0.4444444444444444,
              "#bd3786"
             ],
             [
              0.5555555555555556,
              "#d8576b"
             ],
             [
              0.6666666666666666,
              "#ed7953"
             ],
             [
              0.7777777777777778,
              "#fb9f3a"
             ],
             [
              0.8888888888888888,
              "#fdca26"
             ],
             [
              1,
              "#f0f921"
             ]
            ],
            "type": "histogram2dcontour"
           }
          ],
          "mesh3d": [
           {
            "colorbar": {
             "outlinewidth": 0,
             "ticks": ""
            },
            "type": "mesh3d"
           }
          ],
          "parcoords": [
           {
            "line": {
             "colorbar": {
              "outlinewidth": 0,
              "ticks": ""
             }
            },
            "type": "parcoords"
           }
          ],
          "pie": [
           {
            "automargin": true,
            "type": "pie"
           }
          ],
          "scatter": [
           {
            "fillpattern": {
             "fillmode": "overlay",
             "size": 10,
             "solidity": 0.2
            },
            "type": "scatter"
           }
          ],
          "scatter3d": [
           {
            "line": {
             "colorbar": {
              "outlinewidth": 0,
              "ticks": ""
             }
            },
            "marker": {
             "colorbar": {
              "outlinewidth": 0,
              "ticks": ""
             }
            },
            "type": "scatter3d"
           }
          ],
          "scattercarpet": [
           {
            "marker": {
             "colorbar": {
              "outlinewidth": 0,
              "ticks": ""
             }
            },
            "type": "scattercarpet"
           }
          ],
          "scattergeo": [
           {
            "marker": {
             "colorbar": {
              "outlinewidth": 0,
              "ticks": ""
             }
            },
            "type": "scattergeo"
           }
          ],
          "scattergl": [
           {
            "marker": {
             "colorbar": {
              "outlinewidth": 0,
              "ticks": ""
             }
            },
            "type": "scattergl"
           }
          ],
          "scattermapbox": [
           {
            "marker": {
             "colorbar": {
              "outlinewidth": 0,
              "ticks": ""
             }
            },
            "type": "scattermapbox"
           }
          ],
          "scatterpolar": [
           {
            "marker": {
             "colorbar": {
              "outlinewidth": 0,
              "ticks": ""
             }
            },
            "type": "scatterpolar"
           }
          ],
          "scatterpolargl": [
           {
            "marker": {
             "colorbar": {
              "outlinewidth": 0,
              "ticks": ""
             }
            },
            "type": "scatterpolargl"
           }
          ],
          "scatterternary": [
           {
            "marker": {
             "colorbar": {
              "outlinewidth": 0,
              "ticks": ""
             }
            },
            "type": "scatterternary"
           }
          ],
          "surface": [
           {
            "colorbar": {
             "outlinewidth": 0,
             "ticks": ""
            },
            "colorscale": [
             [
              0,
              "#0d0887"
             ],
             [
              0.1111111111111111,
              "#46039f"
             ],
             [
              0.2222222222222222,
              "#7201a8"
             ],
             [
              0.3333333333333333,
              "#9c179e"
             ],
             [
              0.4444444444444444,
              "#bd3786"
             ],
             [
              0.5555555555555556,
              "#d8576b"
             ],
             [
              0.6666666666666666,
              "#ed7953"
             ],
             [
              0.7777777777777778,
              "#fb9f3a"
             ],
             [
              0.8888888888888888,
              "#fdca26"
             ],
             [
              1,
              "#f0f921"
             ]
            ],
            "type": "surface"
           }
          ],
          "table": [
           {
            "cells": {
             "fill": {
              "color": "#EBF0F8"
             },
             "line": {
              "color": "white"
             }
            },
            "header": {
             "fill": {
              "color": "#C8D4E3"
             },
             "line": {
              "color": "white"
             }
            },
            "type": "table"
           }
          ]
         },
         "layout": {
          "annotationdefaults": {
           "arrowcolor": "#2a3f5f",
           "arrowhead": 0,
           "arrowwidth": 1
          },
          "autotypenumbers": "strict",
          "coloraxis": {
           "colorbar": {
            "outlinewidth": 0,
            "ticks": ""
           }
          },
          "colorscale": {
           "diverging": [
            [
             0,
             "#8e0152"
            ],
            [
             0.1,
             "#c51b7d"
            ],
            [
             0.2,
             "#de77ae"
            ],
            [
             0.3,
             "#f1b6da"
            ],
            [
             0.4,
             "#fde0ef"
            ],
            [
             0.5,
             "#f7f7f7"
            ],
            [
             0.6,
             "#e6f5d0"
            ],
            [
             0.7,
             "#b8e186"
            ],
            [
             0.8,
             "#7fbc41"
            ],
            [
             0.9,
             "#4d9221"
            ],
            [
             1,
             "#276419"
            ]
           ],
           "sequential": [
            [
             0,
             "#0d0887"
            ],
            [
             0.1111111111111111,
             "#46039f"
            ],
            [
             0.2222222222222222,
             "#7201a8"
            ],
            [
             0.3333333333333333,
             "#9c179e"
            ],
            [
             0.4444444444444444,
             "#bd3786"
            ],
            [
             0.5555555555555556,
             "#d8576b"
            ],
            [
             0.6666666666666666,
             "#ed7953"
            ],
            [
             0.7777777777777778,
             "#fb9f3a"
            ],
            [
             0.8888888888888888,
             "#fdca26"
            ],
            [
             1,
             "#f0f921"
            ]
           ],
           "sequentialminus": [
            [
             0,
             "#0d0887"
            ],
            [
             0.1111111111111111,
             "#46039f"
            ],
            [
             0.2222222222222222,
             "#7201a8"
            ],
            [
             0.3333333333333333,
             "#9c179e"
            ],
            [
             0.4444444444444444,
             "#bd3786"
            ],
            [
             0.5555555555555556,
             "#d8576b"
            ],
            [
             0.6666666666666666,
             "#ed7953"
            ],
            [
             0.7777777777777778,
             "#fb9f3a"
            ],
            [
             0.8888888888888888,
             "#fdca26"
            ],
            [
             1,
             "#f0f921"
            ]
           ]
          },
          "colorway": [
           "#636efa",
           "#EF553B",
           "#00cc96",
           "#ab63fa",
           "#FFA15A",
           "#19d3f3",
           "#FF6692",
           "#B6E880",
           "#FF97FF",
           "#FECB52"
          ],
          "font": {
           "color": "#2a3f5f"
          },
          "geo": {
           "bgcolor": "white",
           "lakecolor": "white",
           "landcolor": "#E5ECF6",
           "showlakes": true,
           "showland": true,
           "subunitcolor": "white"
          },
          "hoverlabel": {
           "align": "left"
          },
          "hovermode": "closest",
          "mapbox": {
           "style": "light"
          },
          "paper_bgcolor": "white",
          "plot_bgcolor": "#E5ECF6",
          "polar": {
           "angularaxis": {
            "gridcolor": "white",
            "linecolor": "white",
            "ticks": ""
           },
           "bgcolor": "#E5ECF6",
           "radialaxis": {
            "gridcolor": "white",
            "linecolor": "white",
            "ticks": ""
           }
          },
          "scene": {
           "xaxis": {
            "backgroundcolor": "#E5ECF6",
            "gridcolor": "white",
            "gridwidth": 2,
            "linecolor": "white",
            "showbackground": true,
            "ticks": "",
            "zerolinecolor": "white"
           },
           "yaxis": {
            "backgroundcolor": "#E5ECF6",
            "gridcolor": "white",
            "gridwidth": 2,
            "linecolor": "white",
            "showbackground": true,
            "ticks": "",
            "zerolinecolor": "white"
           },
           "zaxis": {
            "backgroundcolor": "#E5ECF6",
            "gridcolor": "white",
            "gridwidth": 2,
            "linecolor": "white",
            "showbackground": true,
            "ticks": "",
            "zerolinecolor": "white"
           }
          },
          "shapedefaults": {
           "line": {
            "color": "#2a3f5f"
           }
          },
          "ternary": {
           "aaxis": {
            "gridcolor": "white",
            "linecolor": "white",
            "ticks": ""
           },
           "baxis": {
            "gridcolor": "white",
            "linecolor": "white",
            "ticks": ""
           },
           "bgcolor": "#E5ECF6",
           "caxis": {
            "gridcolor": "white",
            "linecolor": "white",
            "ticks": ""
           }
          },
          "title": {
           "x": 0.05
          },
          "xaxis": {
           "automargin": true,
           "gridcolor": "white",
           "linecolor": "white",
           "ticks": "",
           "title": {
            "standoff": 15
           },
           "zerolinecolor": "white",
           "zerolinewidth": 2
          },
          "yaxis": {
           "automargin": true,
           "gridcolor": "white",
           "linecolor": "white",
           "ticks": "",
           "title": {
            "standoff": 15
           },
           "zerolinecolor": "white",
           "zerolinewidth": 2
          }
         }
        },
        "title": {
         "text": "EIA Interchange Data for 9/15/2023"
        },
        "xaxis": {
         "tickangle": 45,
         "tickfont": {
          "size": 8
         },
         "title": {
          "text": "From BA"
         }
        },
        "yaxis": {
         "title": {
          "text": "MWs"
         }
        }
       }
      }
     },
     "metadata": {},
     "output_type": "display_data"
    }
   ],
   "source": [
    "#  Filter down to just the columns we want\n",
    "df_new = df[[\"Interval Start\", \"From BA\", \"To BA\", \"MW\"]]\n",
    "\n",
    "# Color the bars based on import/export (positive/negative values)\n",
    "df[\"Color\"] = np.where(df_new[\"MW\"] < 0, \"red\", \"green\")\n",
    "\n",
    "# Set up graph\n",
    "fig = go.Figure()\n",
    "fig.add_trace(\n",
    "    go.Bar(\n",
    "        name=\"EIA Interchange Data\",\n",
    "        x=df_new[\"From BA\"],\n",
    "        y=df_new[\"MW\"],\n",
    "        marker_color=df[\"Color\"],\n",
    "    )\n",
    ")\n",
    "\n",
    "# Update x-axis labels appearance\n",
    "fig.update_xaxes(\n",
    "    tickangle=45, tickfont=dict(size=8)\n",
    ")  # Rotate and resize x-axis labels for better readability\n",
    "\n",
    "# Adjust bar width\n",
    "fig.update_layout(\n",
    "    bargap=0.1,  # Adjust the gap between bars\n",
    "    bargroupgap=0.05,  # Adjust the gap between groups of bars\n",
    ")\n",
    "\n",
    "# Add the \"To BA\" inside of the bars\n",
    "fig.update_traces(texttemplate=df_new[\"To BA\"], textposition=\"inside\")\n",
    "\n",
    "# Add graph titles\n",
    "fig.update_layout(\n",
    "    title=\"EIA Interchange Data for 9/15/2023\",\n",
    "    xaxis_title=\"From BA\",\n",
    "    yaxis_title=\"MW\" \"s\",\n",
    ")\n",
    "\n",
    "\n",
    "# Show graph\n",
    "# This graph shows the MWs imported/exported from the BA on the x-axis. Negative values represent an export\n",
    "# the BA the power was sent/received from is included in the bars within the graph\n",
    "fig.show(width=1800, height=900)"
   ]
  },
  {
   "cell_type": "markdown",
   "metadata": {},
   "source": [
    "### Example for electricity/rto/fuel-type-data..."
   ]
  },
  {
   "cell_type": "code",
   "execution_count": 16,
   "metadata": {},
   "outputs": [
    {
     "name": "stdout",
     "output_type": "stream",
     "text": [
      "              Interval Start              Interval End Respondent  \\\n",
      "0  2023-09-14 23:00:00+00:00 2023-09-15 00:00:00+00:00       AECI   \n",
      "1  2023-09-14 23:00:00+00:00 2023-09-15 00:00:00+00:00        AVA   \n",
      "2  2023-09-14 23:00:00+00:00 2023-09-15 00:00:00+00:00       AVRN   \n",
      "3  2023-09-14 23:00:00+00:00 2023-09-15 00:00:00+00:00       AZPS   \n",
      "4  2023-09-14 23:00:00+00:00 2023-09-15 00:00:00+00:00       BANC   \n",
      "..                       ...                       ...        ...   \n",
      "71 2023-09-14 23:00:00+00:00 2023-09-15 00:00:00+00:00       WACM   \n",
      "72 2023-09-14 23:00:00+00:00 2023-09-15 00:00:00+00:00       WALC   \n",
      "73 2023-09-14 23:00:00+00:00 2023-09-15 00:00:00+00:00       WAUW   \n",
      "74 2023-09-14 23:00:00+00:00 2023-09-15 00:00:00+00:00        WWA   \n",
      "75 2023-09-14 23:00:00+00:00 2023-09-15 00:00:00+00:00        YAD   \n",
      "\n",
      "                                      Respondent Name  Coal  Hydro  \\\n",
      "0               Associated Electric Cooperative, Inc.  1174      0   \n",
      "1                                  Avista Corporation     0    513   \n",
      "2                            Avangrid Renewables, LLC     0      0   \n",
      "3                      Arizona Public Service Company   860      0   \n",
      "4          Balancing Authority of Northern California     0   1174   \n",
      "..                                                ...   ...    ...   \n",
      "71  Western Area Power Administration - Rocky Moun...  3007    772   \n",
      "72  Western Area Power Administration - Desert Sou...     0    367   \n",
      "73  Western Area Power Administration - Upper Grea...     0     80   \n",
      "74                          NaturEner Wind Watch, LLC     0      0   \n",
      "75     Alcoa Power Generating, Inc. - Yadkin Division     0    174   \n",
      "\n",
      "    Natural gas  Nuclear  Other  Petroleum  Solar  Wind  \n",
      "0          1390        0      0          0      0    62  \n",
      "1           396        0    122          0     13     0  \n",
      "2           580        0      0          0      0   432  \n",
      "3          1797        0     67          0    624   227  \n",
      "4          1551        0     18          0    155     0  \n",
      "..          ...      ...    ...        ...    ...   ...  \n",
      "71          191        0      0          0     43   419  \n",
      "72          717        0      0          0     51    29  \n",
      "73            0        0      0          0      0     0  \n",
      "74            0        0      0          0      0     0  \n",
      "75            0        0      0          0      0     0  \n",
      "\n",
      "[76 rows x 12 columns]\n"
     ]
    }
   ],
   "source": [
    "iso = gridstatus.EIA()\n",
    "df = iso.get_dataset(\"electricity/rto/fuel-type-data\", \"Sep 15, 2023\", \"Sep 15, 2023\")\n",
    "\n",
    "# Lets check out the data..\n",
    "print(df)"
   ]
  },
  {
   "cell_type": "markdown",
   "metadata": {},
   "source": [
    "### Now let's graph it.."
   ]
  },
  {
   "cell_type": "code",
   "execution_count": 19,
   "metadata": {},
   "outputs": [
    {
     "data": {
      "application/vnd.plotly.v1+json": {
       "config": {
        "plotlyServerURL": "https://plot.ly"
       },
       "data": [
        {
         "alignmentgroup": "True",
         "hovertemplate": "variable=Coal<br>Respondent=%{x}<br>value=%{y}<extra></extra>",
         "legendgroup": "Coal",
         "marker": {
          "color": "#636efa",
          "pattern": {
           "shape": ""
          }
         },
         "name": "Coal",
         "offsetgroup": "Coal",
         "orientation": "v",
         "showlegend": true,
         "textposition": "auto",
         "type": "bar",
         "x": [
          "AECI",
          "AVA",
          "AVRN",
          "AZPS",
          "BANC",
          "BPAT",
          "CAL",
          "CAR",
          "CENT",
          "CHPD",
          "CISO",
          "CPLE",
          "CPLW",
          "DEAA",
          "DOPD",
          "DUK",
          "EPE",
          "ERCO",
          "FLA",
          "FMPP",
          "FPC",
          "FPL",
          "GCPD",
          "GRID",
          "GRIF",
          "GVL",
          "GWA",
          "HGMA",
          "HST",
          "IID",
          "IPCO",
          "ISNE",
          "JEA",
          "LDWP",
          "LGEE",
          "MIDA",
          "MIDW",
          "MISO",
          "NE",
          "NEVP",
          "NW",
          "NWMT",
          "NY",
          "NYIS",
          "PACE",
          "PACW",
          "PGE",
          "PJM",
          "PNM",
          "PSCO",
          "PSEI",
          "SC",
          "SCEG",
          "SCL",
          "SE",
          "SEC",
          "SEPA",
          "SOCO",
          "SPA",
          "SRP",
          "SW",
          "SWPP",
          "TAL",
          "TEC",
          "TEN",
          "TEPC",
          "TEX",
          "TIDC",
          "TPWR",
          "TVA",
          "US48",
          "WACM",
          "WALC",
          "WAUW",
          "WWA",
          "YAD"
         ],
         "xaxis": "x",
         "y": [
          1174,
          0,
          0,
          860,
          0,
          0,
          889,
          7342,
          12882,
          0,
          0,
          2143,
          0,
          0,
          0,
          2921,
          0,
          10575,
          3385,
          940,
          1422,
          0,
          0,
          623,
          0,
          0,
          0,
          0,
          0,
          0,
          0,
          0,
          593,
          889,
          3628,
          12798,
          30904,
          26102,
          0,
          342,
          11405,
          1559,
          0,
          0,
          4092,
          0,
          0,
          12798,
          347,
          1782,
          0,
          2028,
          250,
          0,
          6496,
          301,
          0,
          6496,
          0,
          958,
          2375,
          12882,
          0,
          129,
          2247,
          210,
          10575,
          0,
          0,
          2247,
          101298,
          3007,
          0,
          0,
          0,
          0
         ],
         "yaxis": "y"
        },
        {
         "alignmentgroup": "True",
         "hovertemplate": "variable=Hydro<br>Respondent=%{x}<br>value=%{y}<extra></extra>",
         "legendgroup": "Hydro",
         "marker": {
          "color": "#EF553B",
          "pattern": {
           "shape": ""
          }
         },
         "name": "Hydro",
         "offsetgroup": "Hydro",
         "orientation": "v",
         "showlegend": true,
         "textposition": "auto",
         "type": "bar",
         "x": [
          "AECI",
          "AVA",
          "AVRN",
          "AZPS",
          "BANC",
          "BPAT",
          "CAL",
          "CAR",
          "CENT",
          "CHPD",
          "CISO",
          "CPLE",
          "CPLW",
          "DEAA",
          "DOPD",
          "DUK",
          "EPE",
          "ERCO",
          "FLA",
          "FMPP",
          "FPC",
          "FPL",
          "GCPD",
          "GRID",
          "GRIF",
          "GVL",
          "GWA",
          "HGMA",
          "HST",
          "IID",
          "IPCO",
          "ISNE",
          "JEA",
          "LDWP",
          "LGEE",
          "MIDA",
          "MIDW",
          "MISO",
          "NE",
          "NEVP",
          "NW",
          "NWMT",
          "NY",
          "NYIS",
          "PACE",
          "PACW",
          "PGE",
          "PJM",
          "PNM",
          "PSCO",
          "PSEI",
          "SC",
          "SCEG",
          "SCL",
          "SE",
          "SEC",
          "SEPA",
          "SOCO",
          "SPA",
          "SRP",
          "SW",
          "SWPP",
          "TAL",
          "TEC",
          "TEN",
          "TEPC",
          "TEX",
          "TIDC",
          "TPWR",
          "TVA",
          "US48",
          "WACM",
          "WALC",
          "WAUW",
          "WWA",
          "YAD"
         ],
         "xaxis": "x",
         "y": [
          0,
          513,
          0,
          0,
          1174,
          6214,
          4480,
          1506,
          1739,
          820,
          3068,
          44,
          76,
          0,
          194,
          902,
          0,
          101,
          25,
          0,
          25,
          0,
          810,
          0,
          0,
          0,
          0,
          0,
          0,
          20,
          1046,
          1375,
          0,
          138,
          0,
          3420,
          2285,
          2285,
          1375,
          8,
          12390,
          326,
          3667,
          3667,
          160,
          249,
          193,
          3420,
          24,
          11,
          70,
          75,
          235,
          575,
          2323,
          0,
          599,
          1724,
          140,
          71,
          462,
          1599,
          0,
          0,
          3565,
          0,
          101,
          80,
          349,
          3565,
          37338,
          772,
          367,
          80,
          0,
          174
         ],
         "yaxis": "y"
        },
        {
         "alignmentgroup": "True",
         "hovertemplate": "variable=Natural gas<br>Respondent=%{x}<br>value=%{y}<extra></extra>",
         "legendgroup": "Natural gas",
         "marker": {
          "color": "#00cc96",
          "pattern": {
           "shape": ""
          }
         },
         "name": "Natural gas",
         "offsetgroup": "Natural gas",
         "orientation": "v",
         "showlegend": true,
         "textposition": "auto",
         "type": "bar",
         "x": [
          "AECI",
          "AVA",
          "AVRN",
          "AZPS",
          "BANC",
          "BPAT",
          "CAL",
          "CAR",
          "CENT",
          "CHPD",
          "CISO",
          "CPLE",
          "CPLW",
          "DEAA",
          "DOPD",
          "DUK",
          "EPE",
          "ERCO",
          "FLA",
          "FMPP",
          "FPC",
          "FPL",
          "GCPD",
          "GRID",
          "GRIF",
          "GVL",
          "GWA",
          "HGMA",
          "HST",
          "IID",
          "IPCO",
          "ISNE",
          "JEA",
          "LDWP",
          "LGEE",
          "MIDA",
          "MIDW",
          "MISO",
          "NE",
          "NEVP",
          "NW",
          "NWMT",
          "NY",
          "NYIS",
          "PACE",
          "PACW",
          "PGE",
          "PJM",
          "PNM",
          "PSCO",
          "PSEI",
          "SC",
          "SCEG",
          "SCL",
          "SE",
          "SEC",
          "SEPA",
          "SOCO",
          "SPA",
          "SRP",
          "SW",
          "SWPP",
          "TAL",
          "TEC",
          "TEN",
          "TEPC",
          "TEX",
          "TIDC",
          "TPWR",
          "TVA",
          "US48",
          "WACM",
          "WALC",
          "WAUW",
          "WWA",
          "YAD"
         ],
         "xaxis": "x",
         "y": [
          1390,
          396,
          580,
          1797,
          1551,
          953,
          14898,
          9202,
          13186,
          0,
          11971,
          2014,
          167,
          451,
          0,
          4118,
          1018,
          31539,
          29470,
          1755,
          5978,
          15877,
          0,
          1363,
          481,
          284,
          0,
          969,
          0,
          304,
          542,
          7663,
          747,
          744,
          631,
          49173,
          33169,
          31148,
          7663,
          2941,
          12335,
          101,
          9614,
          9614,
          1693,
          0,
          927,
          49173,
          618,
          1485,
          1163,
          492,
          2411,
          0,
          18694,
          1786,
          0,
          18694,
          0,
          2928,
          10258,
          13186,
          484,
          2559,
          6490,
          1279,
          31539,
          328,
          0,
          6490,
          245691,
          191,
          717,
          0,
          0,
          0
         ],
         "yaxis": "y"
        },
        {
         "alignmentgroup": "True",
         "hovertemplate": "variable=Nuclear<br>Respondent=%{x}<br>value=%{y}<extra></extra>",
         "legendgroup": "Nuclear",
         "marker": {
          "color": "#ab63fa",
          "pattern": {
           "shape": ""
          }
         },
         "name": "Nuclear",
         "offsetgroup": "Nuclear",
         "orientation": "v",
         "showlegend": true,
         "textposition": "auto",
         "type": "bar",
         "x": [
          "AECI",
          "AVA",
          "AVRN",
          "AZPS",
          "BANC",
          "BPAT",
          "CAL",
          "CAR",
          "CENT",
          "CHPD",
          "CISO",
          "CPLE",
          "CPLW",
          "DEAA",
          "DOPD",
          "DUK",
          "EPE",
          "ERCO",
          "FLA",
          "FMPP",
          "FPC",
          "FPL",
          "GCPD",
          "GRID",
          "GRIF",
          "GVL",
          "GWA",
          "HGMA",
          "HST",
          "IID",
          "IPCO",
          "ISNE",
          "JEA",
          "LDWP",
          "LGEE",
          "MIDA",
          "MIDW",
          "MISO",
          "NE",
          "NEVP",
          "NW",
          "NWMT",
          "NY",
          "NYIS",
          "PACE",
          "PACW",
          "PGE",
          "PJM",
          "PNM",
          "PSCO",
          "PSEI",
          "SC",
          "SCEG",
          "SCL",
          "SE",
          "SEC",
          "SEPA",
          "SOCO",
          "SPA",
          "SRP",
          "SW",
          "SWPP",
          "TAL",
          "TEC",
          "TEN",
          "TEPC",
          "TEX",
          "TIDC",
          "TPWR",
          "TVA",
          "US48",
          "WACM",
          "WALC",
          "WAUW",
          "WWA",
          "YAD"
         ],
         "xaxis": "x",
         "y": [
          0,
          0,
          0,
          0,
          0,
          1135,
          2215,
          11695,
          2001,
          0,
          2215,
          3608,
          0,
          0,
          0,
          7106,
          0,
          4971,
          3818,
          134,
          0,
          3684,
          0,
          0,
          0,
          0,
          0,
          0,
          0,
          0,
          0,
          2989,
          0,
          0,
          0,
          31628,
          10538,
          10538,
          2989,
          0,
          1135,
          0,
          3238,
          3238,
          0,
          0,
          0,
          31628,
          0,
          0,
          0,
          0,
          981,
          0,
          5806,
          0,
          0,
          5806,
          0,
          3982,
          3982,
          2001,
          0,
          0,
          8220,
          0,
          4971,
          0,
          0,
          8220,
          92236,
          0,
          0,
          0,
          0,
          0
         ],
         "yaxis": "y"
        },
        {
         "alignmentgroup": "True",
         "hovertemplate": "variable=Other<br>Respondent=%{x}<br>value=%{y}<extra></extra>",
         "legendgroup": "Other",
         "marker": {
          "color": "#FFA15A",
          "pattern": {
           "shape": ""
          }
         },
         "name": "Other",
         "offsetgroup": "Other",
         "orientation": "v",
         "showlegend": true,
         "textposition": "auto",
         "type": "bar",
         "x": [
          "AECI",
          "AVA",
          "AVRN",
          "AZPS",
          "BANC",
          "BPAT",
          "CAL",
          "CAR",
          "CENT",
          "CHPD",
          "CISO",
          "CPLE",
          "CPLW",
          "DEAA",
          "DOPD",
          "DUK",
          "EPE",
          "ERCO",
          "FLA",
          "FMPP",
          "FPC",
          "FPL",
          "GCPD",
          "GRID",
          "GRIF",
          "GVL",
          "GWA",
          "HGMA",
          "HST",
          "IID",
          "IPCO",
          "ISNE",
          "JEA",
          "LDWP",
          "LGEE",
          "MIDA",
          "MIDW",
          "MISO",
          "NE",
          "NEVP",
          "NW",
          "NWMT",
          "NY",
          "NYIS",
          "PACE",
          "PACW",
          "PGE",
          "PJM",
          "PNM",
          "PSCO",
          "PSEI",
          "SC",
          "SCEG",
          "SCL",
          "SE",
          "SEC",
          "SEPA",
          "SOCO",
          "SPA",
          "SRP",
          "SW",
          "SWPP",
          "TAL",
          "TEC",
          "TEN",
          "TEPC",
          "TEX",
          "TIDC",
          "TPWR",
          "TVA",
          "US48",
          "WACM",
          "WALC",
          "WAUW",
          "WWA",
          "YAD"
         ],
         "xaxis": "x",
         "y": [
          0,
          122,
          0,
          67,
          18,
          184,
          792,
          1218,
          39,
          0,
          121,
          1076,
          87,
          0,
          0,
          13,
          0,
          251,
          5020,
          24,
          94,
          4225,
          0,
          0,
          0,
          59,
          0,
          0,
          0,
          478,
          38,
          551,
          2,
          175,
          0,
          1396,
          863,
          863,
          551,
          408,
          932,
          0,
          195,
          195,
          127,
          20,
          7,
          1396,
          19,
          0,
          26,
          42,
          0,
          0,
          229,
          0,
          0,
          229,
          0,
          11,
          97,
          39,
          0,
          616,
          25,
          0,
          251,
          0,
          0,
          25,
          11608,
          0,
          0,
          0,
          0,
          0
         ],
         "yaxis": "y"
        },
        {
         "alignmentgroup": "True",
         "hovertemplate": "variable=Petroleum<br>Respondent=%{x}<br>value=%{y}<extra></extra>",
         "legendgroup": "Petroleum",
         "marker": {
          "color": "#19d3f3",
          "pattern": {
           "shape": ""
          }
         },
         "name": "Petroleum",
         "offsetgroup": "Petroleum",
         "orientation": "v",
         "showlegend": true,
         "textposition": "auto",
         "type": "bar",
         "x": [
          "AECI",
          "AVA",
          "AVRN",
          "AZPS",
          "BANC",
          "BPAT",
          "CAL",
          "CAR",
          "CENT",
          "CHPD",
          "CISO",
          "CPLE",
          "CPLW",
          "DEAA",
          "DOPD",
          "DUK",
          "EPE",
          "ERCO",
          "FLA",
          "FMPP",
          "FPC",
          "FPL",
          "GCPD",
          "GRID",
          "GRIF",
          "GVL",
          "GWA",
          "HGMA",
          "HST",
          "IID",
          "IPCO",
          "ISNE",
          "JEA",
          "LDWP",
          "LGEE",
          "MIDA",
          "MIDW",
          "MISO",
          "NE",
          "NEVP",
          "NW",
          "NWMT",
          "NY",
          "NYIS",
          "PACE",
          "PACW",
          "PGE",
          "PJM",
          "PNM",
          "PSCO",
          "PSEI",
          "SC",
          "SCEG",
          "SCL",
          "SE",
          "SEC",
          "SEPA",
          "SOCO",
          "SPA",
          "SRP",
          "SW",
          "SWPP",
          "TAL",
          "TEC",
          "TEN",
          "TEPC",
          "TEX",
          "TIDC",
          "TPWR",
          "TVA",
          "US48",
          "WACM",
          "WALC",
          "WAUW",
          "WWA",
          "YAD"
         ],
         "xaxis": "x",
         "y": [
          0,
          0,
          0,
          0,
          0,
          0,
          85,
          0,
          0,
          0,
          85,
          0,
          0,
          0,
          0,
          0,
          0,
          0,
          20,
          0,
          20,
          0,
          0,
          0,
          0,
          0,
          0,
          0,
          0,
          0,
          0,
          35,
          0,
          0,
          0,
          207,
          0,
          0,
          35,
          0,
          52,
          52,
          12,
          12,
          0,
          0,
          0,
          207,
          0,
          0,
          0,
          0,
          0,
          0,
          -1,
          0,
          0,
          -1,
          0,
          0,
          0,
          0,
          0,
          0,
          0,
          0,
          0,
          0,
          0,
          0,
          410,
          0,
          0,
          0,
          0,
          0
         ],
         "yaxis": "y"
        },
        {
         "alignmentgroup": "True",
         "hovertemplate": "variable=Solar<br>Respondent=%{x}<br>value=%{y}<extra></extra>",
         "legendgroup": "Solar",
         "marker": {
          "color": "#FF6692",
          "pattern": {
           "shape": ""
          }
         },
         "name": "Solar",
         "offsetgroup": "Solar",
         "orientation": "v",
         "showlegend": true,
         "textposition": "auto",
         "type": "bar",
         "x": [
          "AECI",
          "AVA",
          "AVRN",
          "AZPS",
          "BANC",
          "BPAT",
          "CAL",
          "CAR",
          "CENT",
          "CHPD",
          "CISO",
          "CPLE",
          "CPLW",
          "DEAA",
          "DOPD",
          "DUK",
          "EPE",
          "ERCO",
          "FLA",
          "FMPP",
          "FPC",
          "FPL",
          "GCPD",
          "GRID",
          "GRIF",
          "GVL",
          "GWA",
          "HGMA",
          "HST",
          "IID",
          "IPCO",
          "ISNE",
          "JEA",
          "LDWP",
          "LGEE",
          "MIDA",
          "MIDW",
          "MISO",
          "NE",
          "NEVP",
          "NW",
          "NWMT",
          "NY",
          "NYIS",
          "PACE",
          "PACW",
          "PGE",
          "PJM",
          "PNM",
          "PSCO",
          "PSEI",
          "SC",
          "SCEG",
          "SCL",
          "SE",
          "SEC",
          "SEPA",
          "SOCO",
          "SPA",
          "SRP",
          "SW",
          "SWPP",
          "TAL",
          "TEC",
          "TEN",
          "TEPC",
          "TEX",
          "TIDC",
          "TPWR",
          "TVA",
          "US48",
          "WACM",
          "WALC",
          "WAUW",
          "WWA",
          "YAD"
         ],
         "xaxis": "x",
         "y": [
          0,
          13,
          0,
          624,
          155,
          128,
          13376,
          47,
          96,
          0,
          12155,
          38,
          0,
          0,
          0,
          5,
          137,
          5581,
          137,
          1,
          29,
          94,
          0,
          116,
          0,
          0,
          0,
          0,
          0,
          430,
          417,
          16,
          0,
          636,
          1,
          1,
          513,
          512,
          16,
          1067,
          3818,
          40,
          0,
          0,
          813,
          345,
          0,
          1,
          227,
          823,
          13,
          0,
          4,
          0,
          92,
          0,
          0,
          92,
          0,
          602,
          1850,
          96,
          1,
          12,
          49,
          209,
          5581,
          0,
          0,
          49,
          25576,
          43,
          51,
          0,
          0,
          0
         ],
         "yaxis": "y"
        },
        {
         "alignmentgroup": "True",
         "hovertemplate": "variable=Wind<br>Respondent=%{x}<br>value=%{y}<extra></extra>",
         "legendgroup": "Wind",
         "marker": {
          "color": "#B6E880",
          "pattern": {
           "shape": ""
          }
         },
         "name": "Wind",
         "offsetgroup": "Wind",
         "orientation": "v",
         "showlegend": true,
         "textposition": "auto",
         "type": "bar",
         "x": [
          "AECI",
          "AVA",
          "AVRN",
          "AZPS",
          "BANC",
          "BPAT",
          "CAL",
          "CAR",
          "CENT",
          "CHPD",
          "CISO",
          "CPLE",
          "CPLW",
          "DEAA",
          "DOPD",
          "DUK",
          "EPE",
          "ERCO",
          "FLA",
          "FMPP",
          "FPC",
          "FPL",
          "GCPD",
          "GRID",
          "GRIF",
          "GVL",
          "GWA",
          "HGMA",
          "HST",
          "IID",
          "IPCO",
          "ISNE",
          "JEA",
          "LDWP",
          "LGEE",
          "MIDA",
          "MIDW",
          "MISO",
          "NE",
          "NEVP",
          "NW",
          "NWMT",
          "NY",
          "NYIS",
          "PACE",
          "PACW",
          "PGE",
          "PJM",
          "PNM",
          "PSCO",
          "PSEI",
          "SC",
          "SCEG",
          "SCL",
          "SE",
          "SEC",
          "SEPA",
          "SOCO",
          "SPA",
          "SRP",
          "SW",
          "SWPP",
          "TAL",
          "TEC",
          "TEN",
          "TEPC",
          "TEX",
          "TIDC",
          "TPWR",
          "TVA",
          "US48",
          "WACM",
          "WALC",
          "WAUW",
          "WWA",
          "YAD"
         ],
         "xaxis": "x",
         "y": [
          62,
          0,
          432,
          227,
          0,
          258,
          842,
          0,
          5143,
          0,
          793,
          0,
          0,
          0,
          0,
          0,
          0,
          7781,
          0,
          0,
          0,
          0,
          0,
          14,
          0,
          0,
          0,
          0,
          0,
          0,
          53,
          577,
          0,
          49,
          0,
          891,
          6714,
          6652,
          577,
          10,
          3267,
          73,
          296,
          296,
          85,
          76,
          0,
          891,
          540,
          1830,
          17,
          0,
          0,
          0,
          0,
          0,
          0,
          0,
          0,
          16,
          882,
          5143,
          0,
          0,
          2,
          70,
          7781,
          0,
          0,
          2,
          26395,
          419,
          29,
          0,
          0,
          0
         ],
         "yaxis": "y"
        }
       ],
       "layout": {
        "bargap": 0.1,
        "bargroupgap": 0.05,
        "barmode": "relative",
        "legend": {
         "title": {
          "text": "variable"
         },
         "tracegroupgap": 0
        },
        "template": {
         "data": {
          "bar": [
           {
            "error_x": {
             "color": "#2a3f5f"
            },
            "error_y": {
             "color": "#2a3f5f"
            },
            "marker": {
             "line": {
              "color": "#E5ECF6",
              "width": 0.5
             },
             "pattern": {
              "fillmode": "overlay",
              "size": 10,
              "solidity": 0.2
             }
            },
            "type": "bar"
           }
          ],
          "barpolar": [
           {
            "marker": {
             "line": {
              "color": "#E5ECF6",
              "width": 0.5
             },
             "pattern": {
              "fillmode": "overlay",
              "size": 10,
              "solidity": 0.2
             }
            },
            "type": "barpolar"
           }
          ],
          "carpet": [
           {
            "aaxis": {
             "endlinecolor": "#2a3f5f",
             "gridcolor": "white",
             "linecolor": "white",
             "minorgridcolor": "white",
             "startlinecolor": "#2a3f5f"
            },
            "baxis": {
             "endlinecolor": "#2a3f5f",
             "gridcolor": "white",
             "linecolor": "white",
             "minorgridcolor": "white",
             "startlinecolor": "#2a3f5f"
            },
            "type": "carpet"
           }
          ],
          "choropleth": [
           {
            "colorbar": {
             "outlinewidth": 0,
             "ticks": ""
            },
            "type": "choropleth"
           }
          ],
          "contour": [
           {
            "colorbar": {
             "outlinewidth": 0,
             "ticks": ""
            },
            "colorscale": [
             [
              0,
              "#0d0887"
             ],
             [
              0.1111111111111111,
              "#46039f"
             ],
             [
              0.2222222222222222,
              "#7201a8"
             ],
             [
              0.3333333333333333,
              "#9c179e"
             ],
             [
              0.4444444444444444,
              "#bd3786"
             ],
             [
              0.5555555555555556,
              "#d8576b"
             ],
             [
              0.6666666666666666,
              "#ed7953"
             ],
             [
              0.7777777777777778,
              "#fb9f3a"
             ],
             [
              0.8888888888888888,
              "#fdca26"
             ],
             [
              1,
              "#f0f921"
             ]
            ],
            "type": "contour"
           }
          ],
          "contourcarpet": [
           {
            "colorbar": {
             "outlinewidth": 0,
             "ticks": ""
            },
            "type": "contourcarpet"
           }
          ],
          "heatmap": [
           {
            "colorbar": {
             "outlinewidth": 0,
             "ticks": ""
            },
            "colorscale": [
             [
              0,
              "#0d0887"
             ],
             [
              0.1111111111111111,
              "#46039f"
             ],
             [
              0.2222222222222222,
              "#7201a8"
             ],
             [
              0.3333333333333333,
              "#9c179e"
             ],
             [
              0.4444444444444444,
              "#bd3786"
             ],
             [
              0.5555555555555556,
              "#d8576b"
             ],
             [
              0.6666666666666666,
              "#ed7953"
             ],
             [
              0.7777777777777778,
              "#fb9f3a"
             ],
             [
              0.8888888888888888,
              "#fdca26"
             ],
             [
              1,
              "#f0f921"
             ]
            ],
            "type": "heatmap"
           }
          ],
          "heatmapgl": [
           {
            "colorbar": {
             "outlinewidth": 0,
             "ticks": ""
            },
            "colorscale": [
             [
              0,
              "#0d0887"
             ],
             [
              0.1111111111111111,
              "#46039f"
             ],
             [
              0.2222222222222222,
              "#7201a8"
             ],
             [
              0.3333333333333333,
              "#9c179e"
             ],
             [
              0.4444444444444444,
              "#bd3786"
             ],
             [
              0.5555555555555556,
              "#d8576b"
             ],
             [
              0.6666666666666666,
              "#ed7953"
             ],
             [
              0.7777777777777778,
              "#fb9f3a"
             ],
             [
              0.8888888888888888,
              "#fdca26"
             ],
             [
              1,
              "#f0f921"
             ]
            ],
            "type": "heatmapgl"
           }
          ],
          "histogram": [
           {
            "marker": {
             "pattern": {
              "fillmode": "overlay",
              "size": 10,
              "solidity": 0.2
             }
            },
            "type": "histogram"
           }
          ],
          "histogram2d": [
           {
            "colorbar": {
             "outlinewidth": 0,
             "ticks": ""
            },
            "colorscale": [
             [
              0,
              "#0d0887"
             ],
             [
              0.1111111111111111,
              "#46039f"
             ],
             [
              0.2222222222222222,
              "#7201a8"
             ],
             [
              0.3333333333333333,
              "#9c179e"
             ],
             [
              0.4444444444444444,
              "#bd3786"
             ],
             [
              0.5555555555555556,
              "#d8576b"
             ],
             [
              0.6666666666666666,
              "#ed7953"
             ],
             [
              0.7777777777777778,
              "#fb9f3a"
             ],
             [
              0.8888888888888888,
              "#fdca26"
             ],
             [
              1,
              "#f0f921"
             ]
            ],
            "type": "histogram2d"
           }
          ],
          "histogram2dcontour": [
           {
            "colorbar": {
             "outlinewidth": 0,
             "ticks": ""
            },
            "colorscale": [
             [
              0,
              "#0d0887"
             ],
             [
              0.1111111111111111,
              "#46039f"
             ],
             [
              0.2222222222222222,
              "#7201a8"
             ],
             [
              0.3333333333333333,
              "#9c179e"
             ],
             [
              0.4444444444444444,
              "#bd3786"
             ],
             [
              0.5555555555555556,
              "#d8576b"
             ],
             [
              0.6666666666666666,
              "#ed7953"
             ],
             [
              0.7777777777777778,
              "#fb9f3a"
             ],
             [
              0.8888888888888888,
              "#fdca26"
             ],
             [
              1,
              "#f0f921"
             ]
            ],
            "type": "histogram2dcontour"
           }
          ],
          "mesh3d": [
           {
            "colorbar": {
             "outlinewidth": 0,
             "ticks": ""
            },
            "type": "mesh3d"
           }
          ],
          "parcoords": [
           {
            "line": {
             "colorbar": {
              "outlinewidth": 0,
              "ticks": ""
             }
            },
            "type": "parcoords"
           }
          ],
          "pie": [
           {
            "automargin": true,
            "type": "pie"
           }
          ],
          "scatter": [
           {
            "fillpattern": {
             "fillmode": "overlay",
             "size": 10,
             "solidity": 0.2
            },
            "type": "scatter"
           }
          ],
          "scatter3d": [
           {
            "line": {
             "colorbar": {
              "outlinewidth": 0,
              "ticks": ""
             }
            },
            "marker": {
             "colorbar": {
              "outlinewidth": 0,
              "ticks": ""
             }
            },
            "type": "scatter3d"
           }
          ],
          "scattercarpet": [
           {
            "marker": {
             "colorbar": {
              "outlinewidth": 0,
              "ticks": ""
             }
            },
            "type": "scattercarpet"
           }
          ],
          "scattergeo": [
           {
            "marker": {
             "colorbar": {
              "outlinewidth": 0,
              "ticks": ""
             }
            },
            "type": "scattergeo"
           }
          ],
          "scattergl": [
           {
            "marker": {
             "colorbar": {
              "outlinewidth": 0,
              "ticks": ""
             }
            },
            "type": "scattergl"
           }
          ],
          "scattermapbox": [
           {
            "marker": {
             "colorbar": {
              "outlinewidth": 0,
              "ticks": ""
             }
            },
            "type": "scattermapbox"
           }
          ],
          "scatterpolar": [
           {
            "marker": {
             "colorbar": {
              "outlinewidth": 0,
              "ticks": ""
             }
            },
            "type": "scatterpolar"
           }
          ],
          "scatterpolargl": [
           {
            "marker": {
             "colorbar": {
              "outlinewidth": 0,
              "ticks": ""
             }
            },
            "type": "scatterpolargl"
           }
          ],
          "scatterternary": [
           {
            "marker": {
             "colorbar": {
              "outlinewidth": 0,
              "ticks": ""
             }
            },
            "type": "scatterternary"
           }
          ],
          "surface": [
           {
            "colorbar": {
             "outlinewidth": 0,
             "ticks": ""
            },
            "colorscale": [
             [
              0,
              "#0d0887"
             ],
             [
              0.1111111111111111,
              "#46039f"
             ],
             [
              0.2222222222222222,
              "#7201a8"
             ],
             [
              0.3333333333333333,
              "#9c179e"
             ],
             [
              0.4444444444444444,
              "#bd3786"
             ],
             [
              0.5555555555555556,
              "#d8576b"
             ],
             [
              0.6666666666666666,
              "#ed7953"
             ],
             [
              0.7777777777777778,
              "#fb9f3a"
             ],
             [
              0.8888888888888888,
              "#fdca26"
             ],
             [
              1,
              "#f0f921"
             ]
            ],
            "type": "surface"
           }
          ],
          "table": [
           {
            "cells": {
             "fill": {
              "color": "#EBF0F8"
             },
             "line": {
              "color": "white"
             }
            },
            "header": {
             "fill": {
              "color": "#C8D4E3"
             },
             "line": {
              "color": "white"
             }
            },
            "type": "table"
           }
          ]
         },
         "layout": {
          "annotationdefaults": {
           "arrowcolor": "#2a3f5f",
           "arrowhead": 0,
           "arrowwidth": 1
          },
          "autotypenumbers": "strict",
          "coloraxis": {
           "colorbar": {
            "outlinewidth": 0,
            "ticks": ""
           }
          },
          "colorscale": {
           "diverging": [
            [
             0,
             "#8e0152"
            ],
            [
             0.1,
             "#c51b7d"
            ],
            [
             0.2,
             "#de77ae"
            ],
            [
             0.3,
             "#f1b6da"
            ],
            [
             0.4,
             "#fde0ef"
            ],
            [
             0.5,
             "#f7f7f7"
            ],
            [
             0.6,
             "#e6f5d0"
            ],
            [
             0.7,
             "#b8e186"
            ],
            [
             0.8,
             "#7fbc41"
            ],
            [
             0.9,
             "#4d9221"
            ],
            [
             1,
             "#276419"
            ]
           ],
           "sequential": [
            [
             0,
             "#0d0887"
            ],
            [
             0.1111111111111111,
             "#46039f"
            ],
            [
             0.2222222222222222,
             "#7201a8"
            ],
            [
             0.3333333333333333,
             "#9c179e"
            ],
            [
             0.4444444444444444,
             "#bd3786"
            ],
            [
             0.5555555555555556,
             "#d8576b"
            ],
            [
             0.6666666666666666,
             "#ed7953"
            ],
            [
             0.7777777777777778,
             "#fb9f3a"
            ],
            [
             0.8888888888888888,
             "#fdca26"
            ],
            [
             1,
             "#f0f921"
            ]
           ],
           "sequentialminus": [
            [
             0,
             "#0d0887"
            ],
            [
             0.1111111111111111,
             "#46039f"
            ],
            [
             0.2222222222222222,
             "#7201a8"
            ],
            [
             0.3333333333333333,
             "#9c179e"
            ],
            [
             0.4444444444444444,
             "#bd3786"
            ],
            [
             0.5555555555555556,
             "#d8576b"
            ],
            [
             0.6666666666666666,
             "#ed7953"
            ],
            [
             0.7777777777777778,
             "#fb9f3a"
            ],
            [
             0.8888888888888888,
             "#fdca26"
            ],
            [
             1,
             "#f0f921"
            ]
           ]
          },
          "colorway": [
           "#636efa",
           "#EF553B",
           "#00cc96",
           "#ab63fa",
           "#FFA15A",
           "#19d3f3",
           "#FF6692",
           "#B6E880",
           "#FF97FF",
           "#FECB52"
          ],
          "font": {
           "color": "#2a3f5f"
          },
          "geo": {
           "bgcolor": "white",
           "lakecolor": "white",
           "landcolor": "#E5ECF6",
           "showlakes": true,
           "showland": true,
           "subunitcolor": "white"
          },
          "hoverlabel": {
           "align": "left"
          },
          "hovermode": "closest",
          "mapbox": {
           "style": "light"
          },
          "paper_bgcolor": "white",
          "plot_bgcolor": "#E5ECF6",
          "polar": {
           "angularaxis": {
            "gridcolor": "white",
            "linecolor": "white",
            "ticks": ""
           },
           "bgcolor": "#E5ECF6",
           "radialaxis": {
            "gridcolor": "white",
            "linecolor": "white",
            "ticks": ""
           }
          },
          "scene": {
           "xaxis": {
            "backgroundcolor": "#E5ECF6",
            "gridcolor": "white",
            "gridwidth": 2,
            "linecolor": "white",
            "showbackground": true,
            "ticks": "",
            "zerolinecolor": "white"
           },
           "yaxis": {
            "backgroundcolor": "#E5ECF6",
            "gridcolor": "white",
            "gridwidth": 2,
            "linecolor": "white",
            "showbackground": true,
            "ticks": "",
            "zerolinecolor": "white"
           },
           "zaxis": {
            "backgroundcolor": "#E5ECF6",
            "gridcolor": "white",
            "gridwidth": 2,
            "linecolor": "white",
            "showbackground": true,
            "ticks": "",
            "zerolinecolor": "white"
           }
          },
          "shapedefaults": {
           "line": {
            "color": "#2a3f5f"
           }
          },
          "ternary": {
           "aaxis": {
            "gridcolor": "white",
            "linecolor": "white",
            "ticks": ""
           },
           "baxis": {
            "gridcolor": "white",
            "linecolor": "white",
            "ticks": ""
           },
           "bgcolor": "#E5ECF6",
           "caxis": {
            "gridcolor": "white",
            "linecolor": "white",
            "ticks": ""
           }
          },
          "title": {
           "x": 0.05
          },
          "xaxis": {
           "automargin": true,
           "gridcolor": "white",
           "linecolor": "white",
           "ticks": "",
           "title": {
            "standoff": 15
           },
           "zerolinecolor": "white",
           "zerolinewidth": 2
          },
          "yaxis": {
           "automargin": true,
           "gridcolor": "white",
           "linecolor": "white",
           "ticks": "",
           "title": {
            "standoff": 15
           },
           "zerolinecolor": "white",
           "zerolinewidth": 2
          }
         }
        },
        "title": {
         "text": "EIA Gen Mix Data for 9/15/23"
        },
        "xaxis": {
         "anchor": "y",
         "domain": [
          0,
          1
         ],
         "tickangle": 45,
         "tickfont": {
          "size": 8
         },
         "title": {
          "text": "Respondent"
         }
        },
        "yaxis": {
         "anchor": "x",
         "domain": [
          0,
          1
         ],
         "title": {
          "text": "value"
         }
        }
       }
      }
     },
     "metadata": {},
     "output_type": "display_data"
    }
   ],
   "source": [
    "# Filter down the data a bit..\n",
    "df_new = df[\n",
    "    [\n",
    "        \"Interval Start\",\n",
    "        \"Respondent\",\n",
    "        \"Coal\",\n",
    "        \"Hydro\",\n",
    "        \"Natural gas\",\n",
    "        \"Nuclear\",\n",
    "        \"Other\",\n",
    "        \"Petroleum\",\n",
    "        \"Solar\",\n",
    "        \"Wind\",\n",
    "    ]\n",
    "]\n",
    "columns = [\n",
    "    \"Coal\",\n",
    "    \"Hydro\",\n",
    "    \"Natural gas\",\n",
    "    \"Nuclear\",\n",
    "    \"Other\",\n",
    "    \"Petroleum\",\n",
    "    \"Solar\",\n",
    "    \"Wind\",\n",
    "]\n",
    "\n",
    "# set up your graph\n",
    "fig = px.bar(df_new, x=\"Respondent\", y=columns, title=\"EIA Gen Mix Data for 9/15/23\")\n",
    "\n",
    "# Update x-axis labels appearance\n",
    "fig.update_xaxes(\n",
    "    tickangle=45, tickfont=dict(size=8)\n",
    ")  # Rotate and resize x-axis labels for better readability\n",
    "\n",
    "# Adjust bar width\n",
    "fig.update_layout(\n",
    "    bargap=0.1,  # Adjust the gap between bars\n",
    "    bargroupgap=0.05,  # Adjust the gap between groups of bars\n",
    ")\n",
    "\n",
    "# Show graph\n",
    "fig.show(width=1800, height=900)"
   ]
  }
 ],
 "metadata": {
  "kernelspec": {
   "display_name": ".venv",
   "language": "python",
   "name": "python3"
  },
  "language_info": {
   "codemirror_mode": {
    "name": "ipython",
    "version": 3
   },
   "file_extension": ".py",
   "mimetype": "text/x-python",
   "name": "python",
   "nbconvert_exporter": "python",
   "pygments_lexer": "ipython3",
   "version": "3.11.5"
  },
  "orig_nbformat": 4
 },
 "nbformat": 4,
 "nbformat_minor": 2
}
