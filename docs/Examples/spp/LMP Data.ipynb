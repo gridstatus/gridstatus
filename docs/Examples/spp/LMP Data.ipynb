{
 "cells": [
  {
   "cell_type": "markdown",
   "id": "c85f17de",
   "metadata": {},
   "source": [
    "# LMP Data Examples\n",
    "\n",
    "## Walkthrough on how to query LMP data from SPP using gridstatus"
   ]
  },
  {
   "cell_type": "code",
   "execution_count": 1,
   "id": "d0ad47ce",
   "metadata": {},
   "outputs": [],
   "source": [
    "import gridstatus\n",
    "import pandas as pd"
   ]
  },
  {
   "cell_type": "code",
   "execution_count": 2,
   "id": "55d3f5c9",
   "metadata": {},
   "outputs": [],
   "source": [
    "iso = gridstatus.SPP()"
   ]
  },
  {
   "cell_type": "markdown",
   "id": "5f2f68dc",
   "metadata": {},
   "source": [
    "## Available Markets\n",
    "\n",
    "SPP has 2 LMP Markets you can query:"
   ]
  },
  {
   "cell_type": "code",
   "execution_count": 3,
   "id": "0df4d382",
   "metadata": {},
   "outputs": [
    {
     "data": {
      "text/plain": [
       "[<Markets.REAL_TIME_5_MIN: 'REAL_TIME_5_MIN'>,\n",
       " <Markets.DAY_AHEAD_HOURLY: 'DAY_AHEAD_HOURLY'>]"
      ]
     },
     "execution_count": 3,
     "metadata": {},
     "output_type": "execute_result"
    }
   ],
   "source": [
    "iso.markets"
   ]
  },
  {
   "cell_type": "markdown",
   "id": "2f75e652",
   "metadata": {},
   "source": [
    "## Available Location Types\n",
    "\n",
    "The following locations types are available:"
   ]
  },
  {
   "cell_type": "code",
   "execution_count": 4,
   "id": "ef342e68",
   "metadata": {
    "scrolled": true
   },
   "outputs": [
    {
     "data": {
      "text/plain": [
       "['HUB', 'INTERFACE']"
      ]
     },
     "execution_count": 4,
     "metadata": {},
     "output_type": "execute_result"
    }
   ],
   "source": [
    "iso.location_types"
   ]
  },
  {
   "cell_type": "markdown",
   "id": "4526f973",
   "metadata": {},
   "source": [
    "## Query Latest Real-Time LMPs by Hub\n",
    "\n",
    "By default, the LMP methods will get data for the Hub nodes in SPP:"
   ]
  },
  {
   "cell_type": "code",
   "execution_count": 5,
   "id": "83b67ed8",
   "metadata": {
    "scrolled": true
   },
   "outputs": [
    {
     "data": {
      "text/html": [
       "<div>\n",
       "<style scoped>\n",
       "    .dataframe tbody tr th:only-of-type {\n",
       "        vertical-align: middle;\n",
       "    }\n",
       "\n",
       "    .dataframe tbody tr th {\n",
       "        vertical-align: top;\n",
       "    }\n",
       "\n",
       "    .dataframe thead th {\n",
       "        text-align: right;\n",
       "    }\n",
       "</style>\n",
       "<table border=\"1\" class=\"dataframe\">\n",
       "  <thead>\n",
       "    <tr style=\"text-align: right;\">\n",
       "      <th></th>\n",
       "      <th>Time</th>\n",
       "      <th>Market</th>\n",
       "      <th>Location</th>\n",
       "      <th>Location Type</th>\n",
       "      <th>LMP</th>\n",
       "      <th>Energy</th>\n",
       "      <th>Congestion</th>\n",
       "      <th>Loss</th>\n",
       "    </tr>\n",
       "  </thead>\n",
       "  <tbody>\n",
       "    <tr>\n",
       "      <th>0</th>\n",
       "      <td>2022-12-27 12:40:00-06:00</td>\n",
       "      <td>REAL_TIME_5_MIN</td>\n",
       "      <td>SPPNORTH_HUB</td>\n",
       "      <td>Hub</td>\n",
       "      <td>8.3224</td>\n",
       "      <td>25.5804</td>\n",
       "      <td>-16.0751</td>\n",
       "      <td>-1.1829</td>\n",
       "    </tr>\n",
       "    <tr>\n",
       "      <th>1</th>\n",
       "      <td>2022-12-27 12:40:00-06:00</td>\n",
       "      <td>REAL_TIME_5_MIN</td>\n",
       "      <td>SPPSOUTH_HUB</td>\n",
       "      <td>Hub</td>\n",
       "      <td>59.4399</td>\n",
       "      <td>25.5804</td>\n",
       "      <td>34.4535</td>\n",
       "      <td>-0.5940</td>\n",
       "    </tr>\n",
       "  </tbody>\n",
       "</table>\n",
       "</div>"
      ],
      "text/plain": [
       "                       Time           Market      Location Location Type  \\\n",
       "0 2022-12-27 12:40:00-06:00  REAL_TIME_5_MIN  SPPNORTH_HUB           Hub   \n",
       "1 2022-12-27 12:40:00-06:00  REAL_TIME_5_MIN  SPPSOUTH_HUB           Hub   \n",
       "\n",
       "       LMP   Energy  Congestion    Loss  \n",
       "0   8.3224  25.5804    -16.0751 -1.1829  \n",
       "1  59.4399  25.5804     34.4535 -0.5940  "
      ]
     },
     "execution_count": 5,
     "metadata": {},
     "output_type": "execute_result"
    }
   ],
   "source": [
    "df = iso.get_lmp(\n",
    "    date=\"latest\",\n",
    "    market=\"REAL_TIME_5_MIN\"\n",
    ")\n",
    "df"
   ]
  },
  {
   "cell_type": "markdown",
   "id": "f487dbbe",
   "metadata": {},
   "source": [
    "## Query Latest Real-Time LMPs by Interface\n"
   ]
  },
  {
   "cell_type": "code",
   "execution_count": 6,
   "id": "08b59bfa",
   "metadata": {
    "scrolled": true
   },
   "outputs": [
    {
     "data": {
      "text/html": [
       "<div>\n",
       "<style scoped>\n",
       "    .dataframe tbody tr th:only-of-type {\n",
       "        vertical-align: middle;\n",
       "    }\n",
       "\n",
       "    .dataframe tbody tr th {\n",
       "        vertical-align: top;\n",
       "    }\n",
       "\n",
       "    .dataframe thead th {\n",
       "        text-align: right;\n",
       "    }\n",
       "</style>\n",
       "<table border=\"1\" class=\"dataframe\">\n",
       "  <thead>\n",
       "    <tr style=\"text-align: right;\">\n",
       "      <th></th>\n",
       "      <th>Time</th>\n",
       "      <th>Market</th>\n",
       "      <th>Location</th>\n",
       "      <th>Location Type</th>\n",
       "      <th>LMP</th>\n",
       "      <th>Energy</th>\n",
       "      <th>Congestion</th>\n",
       "      <th>Loss</th>\n",
       "    </tr>\n",
       "  </thead>\n",
       "  <tbody>\n",
       "    <tr>\n",
       "      <th>0</th>\n",
       "      <td>2022-12-27 12:40:00-06:00</td>\n",
       "      <td>REAL_TIME_5_MIN</td>\n",
       "      <td>AECI</td>\n",
       "      <td>Interface</td>\n",
       "      <td>41.4922</td>\n",
       "      <td>25.5803</td>\n",
       "      <td>15.0979</td>\n",
       "      <td>0.8140</td>\n",
       "    </tr>\n",
       "    <tr>\n",
       "      <th>1</th>\n",
       "      <td>2022-12-27 12:40:00-06:00</td>\n",
       "      <td>REAL_TIME_5_MIN</td>\n",
       "      <td>ALTW</td>\n",
       "      <td>Interface</td>\n",
       "      <td>28.7196</td>\n",
       "      <td>25.5804</td>\n",
       "      <td>2.8239</td>\n",
       "      <td>0.3153</td>\n",
       "    </tr>\n",
       "    <tr>\n",
       "      <th>2</th>\n",
       "      <td>2022-12-27 12:40:00-06:00</td>\n",
       "      <td>REAL_TIME_5_MIN</td>\n",
       "      <td>AMRN</td>\n",
       "      <td>Interface</td>\n",
       "      <td>28.7196</td>\n",
       "      <td>25.5804</td>\n",
       "      <td>2.8239</td>\n",
       "      <td>0.3153</td>\n",
       "    </tr>\n",
       "    <tr>\n",
       "      <th>3</th>\n",
       "      <td>2022-12-27 12:40:00-06:00</td>\n",
       "      <td>REAL_TIME_5_MIN</td>\n",
       "      <td>BLKW</td>\n",
       "      <td>Interface</td>\n",
       "      <td>-12.7615</td>\n",
       "      <td>25.5803</td>\n",
       "      <td>-37.2850</td>\n",
       "      <td>-1.0568</td>\n",
       "    </tr>\n",
       "    <tr>\n",
       "      <th>4</th>\n",
       "      <td>2022-12-27 12:40:00-06:00</td>\n",
       "      <td>REAL_TIME_5_MIN</td>\n",
       "      <td>CLEC</td>\n",
       "      <td>Interface</td>\n",
       "      <td>28.7196</td>\n",
       "      <td>25.5804</td>\n",
       "      <td>2.8239</td>\n",
       "      <td>0.3153</td>\n",
       "    </tr>\n",
       "  </tbody>\n",
       "</table>\n",
       "</div>"
      ],
      "text/plain": [
       "                       Time           Market Location Location Type      LMP  \\\n",
       "0 2022-12-27 12:40:00-06:00  REAL_TIME_5_MIN     AECI     Interface  41.4922   \n",
       "1 2022-12-27 12:40:00-06:00  REAL_TIME_5_MIN     ALTW     Interface  28.7196   \n",
       "2 2022-12-27 12:40:00-06:00  REAL_TIME_5_MIN     AMRN     Interface  28.7196   \n",
       "3 2022-12-27 12:40:00-06:00  REAL_TIME_5_MIN     BLKW     Interface -12.7615   \n",
       "4 2022-12-27 12:40:00-06:00  REAL_TIME_5_MIN     CLEC     Interface  28.7196   \n",
       "\n",
       "    Energy  Congestion    Loss  \n",
       "0  25.5803     15.0979  0.8140  \n",
       "1  25.5804      2.8239  0.3153  \n",
       "2  25.5804      2.8239  0.3153  \n",
       "3  25.5803    -37.2850 -1.0568  \n",
       "4  25.5804      2.8239  0.3153  "
      ]
     },
     "execution_count": 6,
     "metadata": {},
     "output_type": "execute_result"
    }
   ],
   "source": [
    "df = iso.get_lmp(\n",
    "    date=\"latest\",\n",
    "    market=\"REAL_TIME_5_MIN\",\n",
    "    location_type=\"Interface\"\n",
    ")\n",
    "df.head(5)"
   ]
  },
  {
   "cell_type": "markdown",
   "id": "bfa67c9c",
   "metadata": {},
   "source": [
    "## Query Today's Real-Time LMPs by Interface\n"
   ]
  },
  {
   "cell_type": "code",
   "execution_count": 7,
   "id": "c8477608",
   "metadata": {
    "scrolled": true
   },
   "outputs": [
    {
     "data": {
      "text/html": [
       "<div>\n",
       "<style scoped>\n",
       "    .dataframe tbody tr th:only-of-type {\n",
       "        vertical-align: middle;\n",
       "    }\n",
       "\n",
       "    .dataframe tbody tr th {\n",
       "        vertical-align: top;\n",
       "    }\n",
       "\n",
       "    .dataframe thead th {\n",
       "        text-align: right;\n",
       "    }\n",
       "</style>\n",
       "<table border=\"1\" class=\"dataframe\">\n",
       "  <thead>\n",
       "    <tr style=\"text-align: right;\">\n",
       "      <th></th>\n",
       "      <th>Time</th>\n",
       "      <th>Market</th>\n",
       "      <th>Location</th>\n",
       "      <th>Location Type</th>\n",
       "      <th>LMP</th>\n",
       "      <th>Energy</th>\n",
       "      <th>Congestion</th>\n",
       "      <th>Loss</th>\n",
       "    </tr>\n",
       "  </thead>\n",
       "  <tbody>\n",
       "    <tr>\n",
       "      <th>0</th>\n",
       "      <td>2022-12-27 00:00:00-06:00</td>\n",
       "      <td>REAL_TIME_5_MIN</td>\n",
       "      <td>AECI</td>\n",
       "      <td>Interface</td>\n",
       "      <td>62.3457</td>\n",
       "      <td>18.1608</td>\n",
       "      <td>43.5727</td>\n",
       "      <td>0.6122</td>\n",
       "    </tr>\n",
       "    <tr>\n",
       "      <th>1</th>\n",
       "      <td>2022-12-27 00:00:00-06:00</td>\n",
       "      <td>REAL_TIME_5_MIN</td>\n",
       "      <td>ALTW</td>\n",
       "      <td>Interface</td>\n",
       "      <td>50.6113</td>\n",
       "      <td>18.1609</td>\n",
       "      <td>32.4184</td>\n",
       "      <td>0.0320</td>\n",
       "    </tr>\n",
       "    <tr>\n",
       "      <th>2</th>\n",
       "      <td>2022-12-27 00:00:00-06:00</td>\n",
       "      <td>REAL_TIME_5_MIN</td>\n",
       "      <td>AMRN</td>\n",
       "      <td>Interface</td>\n",
       "      <td>50.6113</td>\n",
       "      <td>18.1609</td>\n",
       "      <td>32.4184</td>\n",
       "      <td>0.0320</td>\n",
       "    </tr>\n",
       "    <tr>\n",
       "      <th>3</th>\n",
       "      <td>2022-12-27 00:00:00-06:00</td>\n",
       "      <td>REAL_TIME_5_MIN</td>\n",
       "      <td>BLKW</td>\n",
       "      <td>Interface</td>\n",
       "      <td>-25.3934</td>\n",
       "      <td>18.1608</td>\n",
       "      <td>-42.6874</td>\n",
       "      <td>-0.8668</td>\n",
       "    </tr>\n",
       "    <tr>\n",
       "      <th>4</th>\n",
       "      <td>2022-12-27 00:00:00-06:00</td>\n",
       "      <td>REAL_TIME_5_MIN</td>\n",
       "      <td>CLEC</td>\n",
       "      <td>Interface</td>\n",
       "      <td>50.6113</td>\n",
       "      <td>18.1609</td>\n",
       "      <td>32.4184</td>\n",
       "      <td>0.0320</td>\n",
       "    </tr>\n",
       "  </tbody>\n",
       "</table>\n",
       "</div>"
      ],
      "text/plain": [
       "                       Time           Market Location Location Type      LMP  \\\n",
       "0 2022-12-27 00:00:00-06:00  REAL_TIME_5_MIN     AECI     Interface  62.3457   \n",
       "1 2022-12-27 00:00:00-06:00  REAL_TIME_5_MIN     ALTW     Interface  50.6113   \n",
       "2 2022-12-27 00:00:00-06:00  REAL_TIME_5_MIN     AMRN     Interface  50.6113   \n",
       "3 2022-12-27 00:00:00-06:00  REAL_TIME_5_MIN     BLKW     Interface -25.3934   \n",
       "4 2022-12-27 00:00:00-06:00  REAL_TIME_5_MIN     CLEC     Interface  50.6113   \n",
       "\n",
       "    Energy  Congestion    Loss  \n",
       "0  18.1608     43.5727  0.6122  \n",
       "1  18.1609     32.4184  0.0320  \n",
       "2  18.1609     32.4184  0.0320  \n",
       "3  18.1608    -42.6874 -0.8668  \n",
       "4  18.1609     32.4184  0.0320  "
      ]
     },
     "execution_count": 7,
     "metadata": {},
     "output_type": "execute_result"
    }
   ],
   "source": [
    "df = iso.get_lmp(\n",
    "    date=\"today\",\n",
    "    market=\"REAL_TIME_5_MIN\",\n",
    "    location_type=\"Interface\"\n",
    ")\n",
    "df.head(5)"
   ]
  },
  {
   "cell_type": "markdown",
   "id": "3b3c1f2c",
   "metadata": {},
   "source": [
    "## Query Day-Ahead LMPs by Hub\n",
    "\n",
    "Return today's day-ahead hourly data by hub:"
   ]
  },
  {
   "cell_type": "code",
   "execution_count": 9,
   "id": "fbb7d738",
   "metadata": {
    "scrolled": false
   },
   "outputs": [
    {
     "data": {
      "text/html": [
       "<div>\n",
       "<style scoped>\n",
       "    .dataframe tbody tr th:only-of-type {\n",
       "        vertical-align: middle;\n",
       "    }\n",
       "\n",
       "    .dataframe tbody tr th {\n",
       "        vertical-align: top;\n",
       "    }\n",
       "\n",
       "    .dataframe thead th {\n",
       "        text-align: right;\n",
       "    }\n",
       "</style>\n",
       "<table border=\"1\" class=\"dataframe\">\n",
       "  <thead>\n",
       "    <tr style=\"text-align: right;\">\n",
       "      <th></th>\n",
       "      <th>Time</th>\n",
       "      <th>Market</th>\n",
       "      <th>Location</th>\n",
       "      <th>Location Type</th>\n",
       "      <th>LMP</th>\n",
       "      <th>Energy</th>\n",
       "      <th>Congestion</th>\n",
       "      <th>Loss</th>\n",
       "    </tr>\n",
       "  </thead>\n",
       "  <tbody>\n",
       "    <tr>\n",
       "      <th>0</th>\n",
       "      <td>2022-12-27 00:55:00-06:00</td>\n",
       "      <td>DAY_AHEAD_HOURLY</td>\n",
       "      <td>SPPNORTH_HUB</td>\n",
       "      <td>Hub</td>\n",
       "      <td>37.2429</td>\n",
       "      <td>49.4530</td>\n",
       "      <td>-11.3574</td>\n",
       "      <td>-0.8527</td>\n",
       "    </tr>\n",
       "    <tr>\n",
       "      <th>1</th>\n",
       "      <td>2022-12-27 00:55:00-06:00</td>\n",
       "      <td>DAY_AHEAD_HOURLY</td>\n",
       "      <td>SPPSOUTH_HUB</td>\n",
       "      <td>Hub</td>\n",
       "      <td>59.4159</td>\n",
       "      <td>49.4530</td>\n",
       "      <td>8.7971</td>\n",
       "      <td>1.1658</td>\n",
       "    </tr>\n",
       "    <tr>\n",
       "      <th>2</th>\n",
       "      <td>2022-12-27 01:55:00-06:00</td>\n",
       "      <td>DAY_AHEAD_HOURLY</td>\n",
       "      <td>SPPNORTH_HUB</td>\n",
       "      <td>Hub</td>\n",
       "      <td>30.7756</td>\n",
       "      <td>39.0876</td>\n",
       "      <td>-7.6743</td>\n",
       "      <td>-0.6377</td>\n",
       "    </tr>\n",
       "    <tr>\n",
       "      <th>3</th>\n",
       "      <td>2022-12-27 01:55:00-06:00</td>\n",
       "      <td>DAY_AHEAD_HOURLY</td>\n",
       "      <td>SPPSOUTH_HUB</td>\n",
       "      <td>Hub</td>\n",
       "      <td>46.7250</td>\n",
       "      <td>39.0877</td>\n",
       "      <td>6.6865</td>\n",
       "      <td>0.9508</td>\n",
       "    </tr>\n",
       "    <tr>\n",
       "      <th>4</th>\n",
       "      <td>2022-12-27 02:55:00-06:00</td>\n",
       "      <td>DAY_AHEAD_HOURLY</td>\n",
       "      <td>SPPNORTH_HUB</td>\n",
       "      <td>Hub</td>\n",
       "      <td>25.1193</td>\n",
       "      <td>39.2789</td>\n",
       "      <td>-13.2062</td>\n",
       "      <td>-0.9534</td>\n",
       "    </tr>\n",
       "  </tbody>\n",
       "</table>\n",
       "</div>"
      ],
      "text/plain": [
       "                       Time            Market      Location Location Type  \\\n",
       "0 2022-12-27 00:55:00-06:00  DAY_AHEAD_HOURLY  SPPNORTH_HUB           Hub   \n",
       "1 2022-12-27 00:55:00-06:00  DAY_AHEAD_HOURLY  SPPSOUTH_HUB           Hub   \n",
       "2 2022-12-27 01:55:00-06:00  DAY_AHEAD_HOURLY  SPPNORTH_HUB           Hub   \n",
       "3 2022-12-27 01:55:00-06:00  DAY_AHEAD_HOURLY  SPPSOUTH_HUB           Hub   \n",
       "4 2022-12-27 02:55:00-06:00  DAY_AHEAD_HOURLY  SPPNORTH_HUB           Hub   \n",
       "\n",
       "       LMP   Energy  Congestion    Loss  \n",
       "0  37.2429  49.4530    -11.3574 -0.8527  \n",
       "1  59.4159  49.4530      8.7971  1.1658  \n",
       "2  30.7756  39.0876     -7.6743 -0.6377  \n",
       "3  46.7250  39.0877      6.6865  0.9508  \n",
       "4  25.1193  39.2789    -13.2062 -0.9534  "
      ]
     },
     "execution_count": 9,
     "metadata": {},
     "output_type": "execute_result"
    }
   ],
   "source": [
    "df = iso.get_lmp(\n",
    "    date=\"today\",\n",
    "    market=\"DAY_AHEAD_HOURLY\",\n",
    "    location_type=\"Hub\"\n",
    ")\n",
    "df.head(5)"
   ]
  },
  {
   "cell_type": "markdown",
   "id": "dc1a6143",
   "metadata": {},
   "source": [
    "## Query Day-Ahead LMPs by Interface\n",
    "\n",
    "Return the latest day-ahead hourly data by interface:"
   ]
  },
  {
   "cell_type": "code",
   "execution_count": 10,
   "id": "5cae794b",
   "metadata": {
    "scrolled": false
   },
   "outputs": [
    {
     "data": {
      "text/html": [
       "<div>\n",
       "<style scoped>\n",
       "    .dataframe tbody tr th:only-of-type {\n",
       "        vertical-align: middle;\n",
       "    }\n",
       "\n",
       "    .dataframe tbody tr th {\n",
       "        vertical-align: top;\n",
       "    }\n",
       "\n",
       "    .dataframe thead th {\n",
       "        text-align: right;\n",
       "    }\n",
       "</style>\n",
       "<table border=\"1\" class=\"dataframe\">\n",
       "  <thead>\n",
       "    <tr style=\"text-align: right;\">\n",
       "      <th></th>\n",
       "      <th>Time</th>\n",
       "      <th>Market</th>\n",
       "      <th>Location</th>\n",
       "      <th>Location Type</th>\n",
       "      <th>LMP</th>\n",
       "      <th>Energy</th>\n",
       "      <th>Congestion</th>\n",
       "      <th>Loss</th>\n",
       "    </tr>\n",
       "  </thead>\n",
       "  <tbody>\n",
       "    <tr>\n",
       "      <th>0</th>\n",
       "      <td>2022-12-27 00:55:00-06:00</td>\n",
       "      <td>DAY_AHEAD_HOURLY</td>\n",
       "      <td>AECI</td>\n",
       "      <td>Interface</td>\n",
       "      <td>59.1813</td>\n",
       "      <td>49.453</td>\n",
       "      <td>8.4446</td>\n",
       "      <td>1.2837</td>\n",
       "    </tr>\n",
       "    <tr>\n",
       "      <th>1</th>\n",
       "      <td>2022-12-27 00:55:00-06:00</td>\n",
       "      <td>DAY_AHEAD_HOURLY</td>\n",
       "      <td>ALTW</td>\n",
       "      <td>Interface</td>\n",
       "      <td>51.6286</td>\n",
       "      <td>49.453</td>\n",
       "      <td>1.8395</td>\n",
       "      <td>0.3361</td>\n",
       "    </tr>\n",
       "    <tr>\n",
       "      <th>2</th>\n",
       "      <td>2022-12-27 00:55:00-06:00</td>\n",
       "      <td>DAY_AHEAD_HOURLY</td>\n",
       "      <td>AMRN</td>\n",
       "      <td>Interface</td>\n",
       "      <td>51.6286</td>\n",
       "      <td>49.453</td>\n",
       "      <td>1.8395</td>\n",
       "      <td>0.3361</td>\n",
       "    </tr>\n",
       "    <tr>\n",
       "      <th>3</th>\n",
       "      <td>2022-12-27 00:55:00-06:00</td>\n",
       "      <td>DAY_AHEAD_HOURLY</td>\n",
       "      <td>BLKW</td>\n",
       "      <td>Interface</td>\n",
       "      <td>34.7523</td>\n",
       "      <td>49.453</td>\n",
       "      <td>-12.0683</td>\n",
       "      <td>-2.6324</td>\n",
       "    </tr>\n",
       "    <tr>\n",
       "      <th>4</th>\n",
       "      <td>2022-12-27 00:55:00-06:00</td>\n",
       "      <td>DAY_AHEAD_HOURLY</td>\n",
       "      <td>CLEC</td>\n",
       "      <td>Interface</td>\n",
       "      <td>51.6286</td>\n",
       "      <td>49.453</td>\n",
       "      <td>1.8395</td>\n",
       "      <td>0.3361</td>\n",
       "    </tr>\n",
       "  </tbody>\n",
       "</table>\n",
       "</div>"
      ],
      "text/plain": [
       "                       Time            Market Location Location Type      LMP  \\\n",
       "0 2022-12-27 00:55:00-06:00  DAY_AHEAD_HOURLY     AECI     Interface  59.1813   \n",
       "1 2022-12-27 00:55:00-06:00  DAY_AHEAD_HOURLY     ALTW     Interface  51.6286   \n",
       "2 2022-12-27 00:55:00-06:00  DAY_AHEAD_HOURLY     AMRN     Interface  51.6286   \n",
       "3 2022-12-27 00:55:00-06:00  DAY_AHEAD_HOURLY     BLKW     Interface  34.7523   \n",
       "4 2022-12-27 00:55:00-06:00  DAY_AHEAD_HOURLY     CLEC     Interface  51.6286   \n",
       "\n",
       "   Energy  Congestion    Loss  \n",
       "0  49.453      8.4446  1.2837  \n",
       "1  49.453      1.8395  0.3361  \n",
       "2  49.453      1.8395  0.3361  \n",
       "3  49.453    -12.0683 -2.6324  \n",
       "4  49.453      1.8395  0.3361  "
      ]
     },
     "execution_count": 10,
     "metadata": {},
     "output_type": "execute_result"
    }
   ],
   "source": [
    "df = iso.get_lmp(\n",
    "    date=\"today\",\n",
    "    market=\"DAY_AHEAD_HOURLY\",\n",
    "    location_type=\"Interface\"\n",
    ")\n",
    "df.head(5)"
   ]
  }
 ],
 "metadata": {
  "kernelspec": {
   "display_name": "Python 3 (ipykernel)",
   "language": "python",
   "name": "python3"
  },
  "language_info": {
   "codemirror_mode": {
    "name": "ipython",
    "version": 3
   },
   "file_extension": ".py",
   "mimetype": "text/x-python",
   "name": "python",
   "nbconvert_exporter": "python",
   "pygments_lexer": "ipython3",
   "version": "3.10.8"
  },
  "vscode": {
   "interpreter": {
    "hash": "49f14642123d0cc1afa9fa45716ed5f1e915189c28b01efe02a8b7ec3c0a3fce"
   }
  }
 },
 "nbformat": 4,
 "nbformat_minor": 5
}
